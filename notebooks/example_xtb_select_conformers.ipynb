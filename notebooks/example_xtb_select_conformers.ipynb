{
 "cells": [
  {
   "cell_type": "markdown",
   "id": "a57b3ca1-7451-4e09-9f31-2e733da5b9ab",
   "metadata": {},
   "source": [
    "# Example on using RDKit, clustering techniques and xTB to find relevant conformers\n",
    "\n",
    "Based on conformer selection by **ReSCoSS, Anikó Udvarhelyi, Stephane Rodde, Rainer Wilcken, J. CAMD 2021, 10.1007/s10822-020-00337-7**\n",
    "\n",
    "An example flow for generating shape-diverse conformers.\n",
    "\n",
    "- Generate many conformers with RDKit\n",
    "- Use clustering technique and cheap shape description to filter conformers\n",
    "- Use xTB to optimize conformers\n",
    "- Use same clustering technique to find unique conformers\n",
    "\n",
    "You now have a series of local-minima conformers based on xTB energy model\n"
   ]
  },
  {
   "cell_type": "code",
   "execution_count": null,
   "id": "50cc1a0b-5b8c-4c3d-892b-a35f3a831d7d",
   "metadata": {},
   "outputs": [],
   "source": [
    "%load_ext autoreload\n",
    "%autoreload 2\n",
    "%matplotlib inline"
   ]
  },
  {
   "cell_type": "code",
   "execution_count": null,
   "id": "29d078dd-5ab7-45ba-b2a5-59b2943ea915",
   "metadata": {},
   "outputs": [],
   "source": []
  },
  {
   "cell_type": "code",
   "execution_count": null,
   "id": "c38c95be-e44c-4ff8-98a8-5c384f2a3ee0",
   "metadata": {},
   "outputs": [],
   "source": [
    "import logging\n",
    "import sys"
   ]
  },
  {
   "cell_type": "code",
   "execution_count": null,
   "id": "82a95b70-9991-40a3-8535-65ee19f9f61c",
   "metadata": {},
   "outputs": [],
   "source": [
    "import numpy as np\n",
    "import pandas as pd\n",
    "from IPython.display import SVG"
   ]
  },
  {
   "cell_type": "code",
   "execution_count": null,
   "id": "3c1cc2f7-851a-4f20-a438-31bf3db9e6d9",
   "metadata": {},
   "outputs": [],
   "source": [
    "from rdkit import Chem\n",
    "from rdkit.Chem import rdDistGeom\n",
    "from rdkit.Chem import AllChem, PandasTools\n",
    "from rdkit.Chem.Draw import MolsToGridImage, MolToImage, rdMolDraw2D"
   ]
  },
  {
   "cell_type": "code",
   "execution_count": null,
   "id": "7a9ffe1b-b549-458a-ab1b-bd67c6aaec1d",
   "metadata": {},
   "outputs": [],
   "source": [
    "from sklearn.cluster import DBSCAN, KMeans\n",
    "from sklearn.ensemble import IsolationForest\n",
    "from sklearn.preprocessing import StandardScaler"
   ]
  },
  {
   "cell_type": "code",
   "execution_count": null,
   "id": "3eab8f0b-b963-4f3c-8e5f-85b95ba67855",
   "metadata": {},
   "outputs": [],
   "source": [
    "import collections\n",
    "import functools\n",
    "import logging\n",
    "import sys"
   ]
  },
  {
   "cell_type": "code",
   "execution_count": null,
   "id": "a4950090-04fa-452d-895b-1fb62c548357",
   "metadata": {},
   "outputs": [],
   "source": [
    "from matplotlib import pyplot as plt\n",
    "from matplotlib import patheffects"
   ]
  },
  {
   "cell_type": "code",
   "execution_count": null,
   "id": "11b18c2f-b789-4b50-87e3-24ab4e8e2149",
   "metadata": {},
   "outputs": [],
   "source": [
    "try:\n",
    "    import ppqm\n",
    "except ModuleNotFoundError:\n",
    "    import pathlib\n",
    "\n",
    "    cwd = pathlib.Path().resolve().parent\n",
    "    sys.path.append(str(cwd))\n",
    "    import ppqm"
   ]
  },
  {
   "cell_type": "code",
   "execution_count": null,
   "id": "510b0202-75d0-4d0a-9066-1fe108d00962",
   "metadata": {},
   "outputs": [],
   "source": [
    "from ppqm import chembridge\n",
    "from ppqm import jupyter as ppqm_jupyter"
   ]
  },
  {
   "cell_type": "code",
   "execution_count": null,
   "id": "f64c5671-22c1-43fb-9498-8ef80f4668f5",
   "metadata": {},
   "outputs": [],
   "source": [
    "import rmsd"
   ]
  },
  {
   "cell_type": "code",
   "execution_count": null,
   "id": "3f1f986a-b77f-404e-a573-47b4a2f5a53a",
   "metadata": {},
   "outputs": [],
   "source": [
    "# Set logging\n",
    "logging.basicConfig(stream=sys.stdout, level=logging.INFO)\n",
    "logging.getLogger(\"ppqm\").setLevel(logging.INFO)\n",
    "logging.getLogger(\"xtb\").setLevel(logging.INFO)"
   ]
  },
  {
   "cell_type": "code",
   "execution_count": null,
   "id": "c34708ff-f04f-4f85-8ee6-dc1b7c5a1e14",
   "metadata": {},
   "outputs": [],
   "source": [
    "_logger = logging.getLogger(__name__)"
   ]
  },
  {
   "cell_type": "code",
   "execution_count": null,
   "id": "cd483ad4-75b4-4a22-9359-7dec7cf5920a",
   "metadata": {},
   "outputs": [],
   "source": [
    "# Set DataFrames visuals\n",
    "PandasTools.RenderImagesInAllDataFrames(images=True)\n",
    "\n",
    "pd.options.display.max_rows = 60\n",
    "pd.options.display.max_columns = 60\n",
    "pd.options.display.float_format = '{:,.2f}'.format"
   ]
  },
  {
   "cell_type": "markdown",
   "id": "2fc0c72e-5d92-440d-bd1e-0a7ba3883d25",
   "metadata": {},
   "source": [
    "# Plot functions"
   ]
  },
  {
   "cell_type": "code",
   "execution_count": null,
   "id": "f730eafd-bdf9-42e4-86a7-03b02d643443",
   "metadata": {},
   "outputs": [],
   "source": [
    "def get_plot(n_ax=1):\n",
    "    \"\"\" Get a jupyter-sized plot \"\"\"\n",
    "    fig, axs = plt.subplots(1, n_ax, sharey=True, sharex=True, figsize=(12, n_ax * 12))\n",
    "    return fig, axs\n",
    "\n",
    "\n",
    "def view_cluster(ax, values, cluster_indices, outliers=None, markersize=6):\n",
    "    \"\"\" View clusters of points \"\"\"\n",
    "\n",
    "    n_clusters = len(cluster_indices)\n",
    "    colors = [plt.cm.Spectral(each) for each in np.linspace(0, 1, n_clusters)]\n",
    "    # colors = [plt.cm.rainbow(each) for each in np.linspace(0, 1, n_clusters)]\n",
    "\n",
    "    for idxs, color in zip(cluster_indices, colors):\n",
    "\n",
    "        marker_options = {\n",
    "            \"markerfacecolor\": tuple(color),\n",
    "            \"markeredgecolor\": \"k\",\n",
    "            \"markersize\": markersize,\n",
    "        }\n",
    "\n",
    "        x = values[0, idxs]\n",
    "        y = values[1, idxs]\n",
    "        ax.plot(x, y, \"o\", **marker_options)\n",
    "\n",
    "    if outliers is not None:\n",
    "\n",
    "        outlier_color = [1, 1, 1, 1]\n",
    "        marker_options = {\n",
    "            \"markerfacecolor\": tuple(outlier_color),\n",
    "            \"markeredgecolor\": \"k\",\n",
    "            \"markersize\": markersize,\n",
    "        }\n",
    "\n",
    "        x = values[0, outliers]\n",
    "        y = values[1, outliers]\n",
    "        ax.plot(x, y, \"o\", **marker_options)\n",
    "\n",
    "\n",
    "def hexbin(ax, xvalues, yvalues, density=25, mincount=2, colormap=\"PuRd\", bins=\"log\"):  # 'Greys'\n",
    "    \"\"\" Wrapper for MPL hexbin func with sane defaults \"\"\"\n",
    "\n",
    "    # Settings\n",
    "    lineswidth = 0.0  # white lines\n",
    "    lineswidth = 0.2  # perfect fit\n",
    "    lineswidth = 0.3  # fit for pngs\n",
    "    lineswidth = 0.4  # fit for pngs\n",
    "\n",
    "    hexbinpar = {\n",
    "        \"gridsize\": density,\n",
    "        \"cmap\": colormap,\n",
    "        \"linewidths\": lineswidth,\n",
    "        \"mincnt\": 1,\n",
    "        \"bins\": bins,\n",
    "    }\n",
    "\n",
    "    _ = ax.hexbin(xvalues, yvalues, **hexbinpar)\n",
    "\n",
    "    return\n",
    "\n",
    "\n",
    "def fix_borders(ax, visibles=[False, False, True, True], fix_bounds=True):\n",
    "    \"\"\" Make border pretty \"\"\"\n",
    "\n",
    "    directions = [\"top\", \"right\", \"bottom\", \"left\"]\n",
    "\n",
    "    spines = ax.spines.items()\n",
    "    spines = dict(spines)\n",
    "\n",
    "    xticks = ax.get_xticks()\n",
    "    yticks = ax.get_yticks()\n",
    "    min_x, max_x = ax.get_xlim()\n",
    "    min_y, max_y = ax.get_ylim()\n",
    "\n",
    "    # Correct to the actual ticks\n",
    "    (x_idxs,) = np.where((xticks > min_x) & (xticks < max_x))\n",
    "    (y_idxs,) = np.where((yticks > min_y) & (yticks < max_y))\n",
    "    xticks = xticks[x_idxs]\n",
    "    yticks = yticks[y_idxs]\n",
    "\n",
    "    min_x = np.min(xticks)\n",
    "    max_x = np.max(xticks)\n",
    "\n",
    "    min_y = np.min(yticks)\n",
    "    max_y = np.max(yticks)\n",
    "\n",
    "    for direction, visible in zip(directions, visibles):\n",
    "\n",
    "        spine = spines[direction]\n",
    "        spine.set_visible(visible)\n",
    "\n",
    "        if not visible:\n",
    "            continue\n",
    "\n",
    "        if not fix_bounds:\n",
    "            continue\n",
    "\n",
    "        if direction == \"left\" or direction == \"right\":\n",
    "            spine.set_bounds(min_y, max_y)\n",
    "\n",
    "        else:\n",
    "            spine.set_bounds(min_x, max_x)"
   ]
  },
  {
   "cell_type": "markdown",
   "id": "7c6e03b6-abfa-4ec0-a98e-eaca487fa7d3",
   "metadata": {},
   "source": [
    "# Settings"
   ]
  },
  {
   "cell_type": "code",
   "execution_count": null,
   "id": "14e09b6e-f759-4ee1-8603-cf54886649cf",
   "metadata": {},
   "outputs": [],
   "source": [
    "N_CORES = 8"
   ]
  },
  {
   "cell_type": "markdown",
   "id": "ea550802-7f18-417d-9d1c-fc87d7510936",
   "metadata": {},
   "source": [
    "## Define a Molecule"
   ]
  },
  {
   "cell_type": "code",
   "execution_count": null,
   "id": "9b890ee5-6ac5-42d7-be8e-9cd57e985e65",
   "metadata": {},
   "outputs": [],
   "source": [
    "smiles = \"Cc1ccc(-c2ncccn2)c(C(=O)N2CC(COc3ccc(F)cn3)CCC2C)c1\"  # 10.1007/s10822-020-00337-7"
   ]
  },
  {
   "cell_type": "code",
   "execution_count": null,
   "id": "4c9186cb-f2e0-48b7-a0c3-11d1097e2044",
   "metadata": {},
   "outputs": [],
   "source": [
    "molobj = Chem.MolFromSmiles(smiles)"
   ]
  },
  {
   "cell_type": "code",
   "execution_count": null,
   "id": "217a512f-5e03-439a-9021-23192b919114",
   "metadata": {},
   "outputs": [],
   "source": [
    "molobj"
   ]
  },
  {
   "cell_type": "markdown",
   "id": "52467e74-895b-4ee6-aac0-92557aec43c0",
   "metadata": {},
   "source": [
    "# Generate a lot of conformers\n",
    "\n",
    "Generate as many conformers as possible. Use your favorite program. We pretend that all conformers are covered by this. \n",
    "\n",
    "In this example we use RDKit ETKDGv3 to generate conformers\n"
   ]
  },
  {
   "cell_type": "code",
   "execution_count": null,
   "id": "d412e35d-043d-4f19-a191-ec098bbe3d58",
   "metadata": {},
   "outputs": [],
   "source": [
    "%%time\n",
    "\n",
    "n_conformers = 1_000\n",
    "molobj_3d = Chem.Mol(molobj, True)\n",
    "molobj_3d = Chem.AddHs(molobj_3d)\n",
    "embed_parameters = rdDistGeom.ETKDGv3()\n",
    "rdDistGeom.EmbedMultipleConfs(molobj_3d, n_conformers, embed_parameters)\n",
    "\n",
    "pass"
   ]
  },
  {
   "cell_type": "code",
   "execution_count": null,
   "id": "787cc8de-1971-4dd8-9039-48d18edd58c0",
   "metadata": {},
   "outputs": [],
   "source": [
    "molobj_3d.GetNumConformers()"
   ]
  },
  {
   "cell_type": "code",
   "execution_count": null,
   "id": "e8748bc4-3e1e-4d27-8d03-6d552a7096b0",
   "metadata": {},
   "outputs": [],
   "source": [
    "# ppqm_jupyter.show_molobj(molobj_3d)"
   ]
  },
  {
   "cell_type": "markdown",
   "id": "2d837f87-3f08-4aa0-8f9f-d9a870b1c76e",
   "metadata": {},
   "source": [
    "# Look at the shape distribution \n",
    "\n",
    "\n",
    "There are *MANY* ways to look at the shape of a molecule. ResCoSS looks at a list of properties calculates by cosmotherm, including hydrogen-doner/acceptor.\n",
    "\n",
    "For speed-reasons, we select two of the properties\n",
    "\n",
    "- Solvent acessible Surface Area (SASA)\n",
    "- Dipole moment\n",
    "\n",
    "and calculate them by RDKit\n",
    "\n",
    "    rdFreeSASA.CalcSASA(molobj, radii, confIdx=i)\n",
    "    AllChem.ComputeGasteigerCharges(molobj)\n",
    "\n",
    "which is rough estimates of QM properties, however good enough to describe if two conformers are shapely similar.\n"
   ]
  },
  {
   "cell_type": "code",
   "execution_count": null,
   "id": "7d103747-d5e0-4d81-bf00-140fa569f4e4",
   "metadata": {},
   "outputs": [],
   "source": [
    "def calculate_shape(mol):\n",
    "    \"\"\" return (2, n_conformer) array with SASA and Dipole moments \"\"\"\n",
    "    \n",
    "    # Get surface accessible solvent area\n",
    "    sasas = ppqm.chembridge.get_sasa(mol, extra_radius=1.0)\n",
    "\n",
    "    # Dipole moments\n",
    "    dipole_moments = ppqm.chembridge.get_dipole_moments(mol)\n",
    "\n",
    "    # Package in one numpy array\n",
    "    values = [sasas, dipole_moments]\n",
    "    values = np.asarray(values, dtype=np.float64)\n",
    "    \n",
    "    return values"
   ]
  },
  {
   "cell_type": "code",
   "execution_count": null,
   "id": "c791a805-7ceb-49bf-92f6-1467cdaf93a4",
   "metadata": {},
   "outputs": [],
   "source": [
    "%%time\n",
    "shapes_unfiltered = calculate_shape(molobj_3d)"
   ]
  },
  {
   "cell_type": "code",
   "execution_count": null,
   "id": "b7324283-699c-4953-beb3-29c893194a6c",
   "metadata": {},
   "outputs": [],
   "source": [
    "fig, axs = get_plot()\n",
    "axs.plot(*shapes_unfiltered, \"ko\", ms=5)\n",
    "axs.set_xlabel(\"SASA\")\n",
    "axs.set_ylabel(\"Dipole\")\n",
    "\n",
    "#for idx, (x, y) in enumerate(zip(*conformer_shapes)):\n",
    "#    txt = plt.text(x, y, idx, fontsize=14)\n",
    "#    txt.set_path_effects([patheffects.withStroke(linewidth=3, foreground=\"w\")])\n",
    "\n",
    "fix_borders(axs)"
   ]
  },
  {
   "cell_type": "markdown",
   "id": "4c89dcd0-6038-4b57-8026-174c7def6061",
   "metadata": {},
   "source": [
    "# Optimize all conformers"
   ]
  },
  {
   "cell_type": "code",
   "execution_count": null,
   "id": "0a9b85f5-ed42-40d0-98fe-87ff9a57b499",
   "metadata": {},
   "outputs": [],
   "source": [
    "def optimize_axyzc(\n",
    "    atoms,\n",
    "    coordinates,\n",
    "    charge,\n",
    "    calculation_options={},\n",
    "    xtb_options={}\n",
    ") -> np.array:\n",
    "    \"\"\"\n",
    "    Optimize conformer with fast quantum chemistry\n",
    "\n",
    "    - optimize with XTB2\n",
    "    - if not_converged\n",
    "      restart with XTB0 with n_steps\n",
    "      optimize with XTB2\n",
    "    - if not_converged\n",
    "      optimize with cartisian coordinates\n",
    "    - if not_converged\n",
    "      return None\n",
    "\n",
    "    :return coordiantes: Nx3 Array of coordiantes\n",
    "    \"\"\"\n",
    "\n",
    "    assert isinstance(atoms[0], str), \"func requires atoms in string format\"\n",
    "\n",
    "    options_default = {\n",
    "        \"opt\": None,\n",
    "        \"cycles\": 100,\n",
    "    }\n",
    "    options_default = dict(collections.ChainMap(options_default, calculation_options))\n",
    "\n",
    "    options_fast = {\n",
    "        \"gfn\": 0,\n",
    "        \"opt\": None,\n",
    "        \"cycles\": 200,\n",
    "    }\n",
    "    options_fast = dict(collections.ChainMap(options_fast, calculation_options))\n",
    "\n",
    "    options_lax = {\n",
    "        \"opt\": \"lax\",\n",
    "    }\n",
    "    options_fast = dict(collections.ChainMap(options_lax, calculation_options))\n",
    "\n",
    "    # Start calculating with the defined options\n",
    "\n",
    "    properties = ppqm.xtb.get_properties_from_axyzc(\n",
    "        atoms, coordinates, charge, options=options_default, **xtb_options\n",
    "    )\n",
    "\n",
    "    if properties and properties[ppqm.xtb.COLUMN_CONVERGED]:\n",
    "        return properties[ppqm.xtb.COLUMN_COORD], properties[ppqm.xtb.COLUMN_ENERGY]\n",
    "\n",
    "    properties = ppqm.xtb.get_properties_from_axyzc(\n",
    "        atoms, coordinates, charge, options=options_fast, **xtb_options\n",
    "    )\n",
    "\n",
    "    if not properties or ppqm.xtb.COLUMN_COORD not in properties:\n",
    "        return None, None\n",
    "\n",
    "    fast_coordinates = properties[ppqm.xtb.COLUMN_COORD]\n",
    "\n",
    "    properties = ppqm.xtb.get_properties_from_axyzc(\n",
    "        atoms, fast_coordinates, charge, options_default, **xtb_options\n",
    "    )\n",
    "\n",
    "    if properties and properties[ppqm.xtb.COLUMN_CONVERGED]:\n",
    "        return properties[ppqm.xtb.COLUMN_COORD], properties[ppqm.xtb.COLUMN_ENERGY]\n",
    "\n",
    "    if properties[ppqm.xtb.COLUMN_COORD] is None:\n",
    "        return None, None\n",
    "\n",
    "    fast_coordinates = properties[ppqm.xtb.COLUMN_COORD]\n",
    "\n",
    "    properties = ppqm.xtb.get_properties_from_axyzc(\n",
    "        atoms, fast_coordinates, charge, options=options_lax, **xtb_options\n",
    "    )\n",
    "\n",
    "    if not properties or properties[ppqm.xtb.COLUMN_COORD] is None:\n",
    "        return None, None\n",
    "\n",
    "    return properties[ppqm.xtb.COLUMN_COORD], properties[ppqm.xtb.COLUMN_ENERGY]"
   ]
  },
  {
   "cell_type": "code",
   "execution_count": null,
   "id": "5638458c-4928-4423-b85a-57651b7d2081",
   "metadata": {},
   "outputs": [],
   "source": [
    "def optimize_acxyz(atoms, charge, coordinates, **kwargs):\n",
    "    \"\"\" Meta function for parallel func mapping \"\"\"\n",
    "    return optimize_axyzc(atoms, coordinates, charge, **kwargs)"
   ]
  },
  {
   "cell_type": "code",
   "execution_count": null,
   "id": "b79537be-3258-4e16-b8e0-2169849e5877",
   "metadata": {},
   "outputs": [],
   "source": [
    "def optimize_molobj(\n",
    "    molobj,\n",
    "    show_progress=True,\n",
    "    n_cores=1,\n",
    "    scr=None,\n",
    "    calculation_options={},\n",
    "    xtb_options={},\n",
    "    rmsd_threshold=3.0,\n",
    "):\n",
    "    \"\"\"\n",
    "    Optimize all the conformers in molobj.\n",
    "\n",
    "    :param rmsd_threshold: Check if molcule moved away from local minima.\n",
    "    \"\"\"\n",
    "    n_atoms = molobj.GetNumAtoms()\n",
    "    molobj_prime = chembridge.copy_molobj(molobj)\n",
    "    energies = []\n",
    "\n",
    "    atoms, _, charge = chembridge.get_axyzc(molobj, atomfmt=str)\n",
    "\n",
    "    n_conformers = molobj.GetNumConformers()\n",
    "    coordinates_list = [\n",
    "        np.asarray(conformer.GetPositions()) for conformer in molobj.GetConformers()\n",
    "    ]\n",
    "\n",
    "    n_procs = min(n_cores, n_conformers)\n",
    "    results = []\n",
    "\n",
    "    if \"n_cores\" in xtb_options:\n",
    "        del xtb_options[\"n_cores\"]\n",
    "\n",
    "    if scr:\n",
    "        xtb_options[\"scr\"] = scr\n",
    "\n",
    "    func = functools.partial(\n",
    "        optimize_acxyz,\n",
    "        atoms,\n",
    "        charge,\n",
    "        calculation_options=calculation_options,\n",
    "        xtb_options=xtb_options,\n",
    "    )\n",
    "\n",
    "    results = ppqm.misc.func_parallel(\n",
    "        func,\n",
    "        coordinates_list,\n",
    "        n_cores=n_procs,\n",
    "        show_progress=show_progress,\n",
    "        title=\"Optimize\",\n",
    "    )\n",
    "    \n",
    "    for idx, (coord, energy) in enumerate(results):\n",
    "\n",
    "        # if conformer is unconverged, ignore\n",
    "        if coord is None or energy is None:\n",
    "            _logger.warning(f\"conformer {idx} unconverged\")\n",
    "            continue\n",
    "\n",
    "        # if conformer has changed a lot, warn\n",
    "        original = chembridge.get_coordinates(molobj, confid=idx)\n",
    "        displacement = rmsd.kabsch_rmsd(coord, original)\n",
    "        if displacement > rmsd_threshold:\n",
    "            _logger.warning(f\"conformer {idx} has large displacement\")\n",
    "\n",
    "        # Molecule is converged, add to new molobj\n",
    "        conformer = Chem.Conformer(n_atoms)\n",
    "        chembridge.conformer_set_coordinates(conformer, coord)\n",
    "        molobj_prime.AddConformer(conformer, assignId=True)\n",
    "        energies.append(energy)\n",
    "\n",
    "    energies = np.asarray(energies)\n",
    "\n",
    "    return molobj_prime, energies"
   ]
  },
  {
   "cell_type": "markdown",
   "id": "76d79621-bc07-489e-b4c5-124dd3d69040",
   "metadata": {},
   "source": [
    "# Filter a lot of conformers to unique"
   ]
  },
  {
   "cell_type": "code",
   "execution_count": null,
   "id": "70ff2c35-4202-45f2-9c79-ac5424e14b42",
   "metadata": {},
   "outputs": [],
   "source": [
    "def find_conformer_groups(values):\n",
    "    \"\"\" Unbound filter for clustered conformer shapes\n",
    "    \n",
    "    args:\n",
    "        values - n_descriptors x n_conformers\n",
    "    \n",
    "    \"\"\"\n",
    "    \n",
    "    dbscan_eps = 0.2\n",
    "    dbscan_min_samples = 2\n",
    "    \n",
    "    # Transform to row-based descriptions\n",
    "    values = values.T\n",
    "\n",
    "    if values.shape[0] == 0:\n",
    "        return []\n",
    "    \n",
    "    # Normalize the shape descriptors\n",
    "    values = StandardScaler().fit_transform(values)\n",
    "    \n",
    "    # Find outliers\n",
    "    db = DBSCAN(eps=dbscan_eps, min_samples=dbscan_min_samples).fit(values)\n",
    "    labels = db.labels_\n",
    "    cluster_labels, cluster_counts = np.unique(labels, return_counts=True)\n",
    "\n",
    "    cluster_indices = []\n",
    "    outliers = []\n",
    "    for label in cluster_labels:\n",
    "        (idxs,) = np.where(labels == label)\n",
    "\n",
    "        if label == -1:\n",
    "            outliers = idxs\n",
    "        else:\n",
    "            cluster_indices.append(idxs)\n",
    "    \n",
    "    return cluster_indices, outliers\n",
    "\n",
    "\n",
    "def select_n(clusters, n=1):\n",
    "    \"\"\" Select n indicies in clusters \"\"\"\n",
    "    \n",
    "    indices = []\n",
    "    \n",
    "    for cluster in clusters:\n",
    "        idxs = cluster[:n]\n",
    "        indices += list(idxs)\n",
    "\n",
    "    return indices"
   ]
  },
  {
   "cell_type": "code",
   "execution_count": null,
   "id": "9700ac4f-8f0c-4e84-b082-d04e063c5cd8",
   "metadata": {},
   "outputs": [],
   "source": [
    "# visualize the groups"
   ]
  },
  {
   "cell_type": "code",
   "execution_count": null,
   "id": "4484aae4-e414-4019-baa3-8be97ee36ec2",
   "metadata": {},
   "outputs": [],
   "source": [
    "groups_indices, groups_outliers = find_conformer_groups(shapes_unfiltered)"
   ]
  },
  {
   "cell_type": "code",
   "execution_count": null,
   "id": "ffd5d1fd-5051-4586-be01-1d5c48de0ad0",
   "metadata": {},
   "outputs": [],
   "source": [
    "selected_indices = select_n(groups_indices) + list(groups_outliers)"
   ]
  },
  {
   "cell_type": "code",
   "execution_count": null,
   "id": "bbbc3c49-5fc6-4a74-a6fe-ba3f33c67dba",
   "metadata": {},
   "outputs": [],
   "source": [
    "fig, ax = get_plot()\n",
    "\n",
    "view_cluster(ax, shapes_unfiltered, groups_indices, outliers=groups_outliers)\n",
    "\n",
    "ax.plot(\n",
    "    shapes_unfiltered[0, selected_indices],\n",
    "    shapes_unfiltered[1, selected_indices],\n",
    "    \"Xk\",\n",
    "    markersize=14,\n",
    "    path_effects=[patheffects.withStroke(linewidth=4, foreground=\"w\")],\n",
    ")\n",
    "\n",
    "fix_borders(ax)"
   ]
  },
  {
   "cell_type": "code",
   "execution_count": null,
   "id": "20d864d9-b703-44fe-a89c-7e2fc8a49915",
   "metadata": {},
   "outputs": [],
   "source": [
    "molobj_filtered = ppqm.chembridge.molobj_select_conformers(molobj_3d, selected_indices)"
   ]
  },
  {
   "cell_type": "code",
   "execution_count": null,
   "id": "1861dbd5-b7b3-464d-ac38-4d552634d75d",
   "metadata": {},
   "outputs": [],
   "source": [
    "molobj_filtered.GetNumConformers()"
   ]
  },
  {
   "cell_type": "markdown",
   "id": "98be01fd-f6b3-415f-bec8-fb4258310fdd",
   "metadata": {},
   "source": [
    "# Molecule with shape diverse conformers"
   ]
  },
  {
   "cell_type": "code",
   "execution_count": null,
   "id": "4748ccc0-1272-455d-b3e0-f20ed740f2e5",
   "metadata": {},
   "outputs": [],
   "source": [
    "molobj_filtered_xtb, _ = optimize_molobj(molobj_filtered, n_cores=N_CORES)"
   ]
  },
  {
   "cell_type": "code",
   "execution_count": null,
   "id": "22155316-80af-483b-8e9f-b105030831d9",
   "metadata": {},
   "outputs": [],
   "source": [
    "shapes_filtered_optimized = calculate_shape(molobj_filtered_xtb)"
   ]
  },
  {
   "cell_type": "code",
   "execution_count": null,
   "id": "b782c48d-f4e9-45f1-b939-6e418b93f341",
   "metadata": {},
   "outputs": [],
   "source": [
    "fig, ax = get_plot()\n",
    "ax.plot(*shapes_filtered_optimized, \"ko\", ms=5)\n",
    "ax.set_xlabel(\"SASA\")\n",
    "ax.set_ylabel(\"Dipole\")\n",
    "fix_borders(ax)"
   ]
  },
  {
   "cell_type": "code",
   "execution_count": null,
   "id": "ebb708f0-38f7-4011-aabb-d3728c0df613",
   "metadata": {},
   "outputs": [],
   "source": [
    "groups_indices, groups_outliers = find_conformer_groups(shapes_filtered_optimized)"
   ]
  },
  {
   "cell_type": "code",
   "execution_count": null,
   "id": "e63cd46a-1267-46aa-941f-c845e669c760",
   "metadata": {},
   "outputs": [],
   "source": [
    "selected_indices = select_n(groups_indices) + list(groups_outliers)"
   ]
  },
  {
   "cell_type": "code",
   "execution_count": null,
   "id": "e6c39044-0e89-4bc4-ae7a-0441722f8b2a",
   "metadata": {},
   "outputs": [],
   "source": [
    "fig, ax = get_plot()\n",
    "\n",
    "view_cluster(ax, shapes_filtered_optimized, groups_indices, outliers=groups_outliers)\n",
    "\n",
    "ax.plot(\n",
    "    shapes_unfiltered[0, selected_indices],\n",
    "    shapes_unfiltered[1, selected_indices],\n",
    "    \"Xk\",\n",
    "    markersize=14,\n",
    "    path_effects=[patheffects.withStroke(linewidth=4, foreground=\"w\")],\n",
    ")\n",
    "\n",
    "fix_borders(ax)"
   ]
  },
  {
   "cell_type": "code",
   "execution_count": null,
   "id": "ef0addd9-e069-494d-950f-cc9634363992",
   "metadata": {},
   "outputs": [],
   "source": [
    "ppqm_jupyter.show_molobj(molobj_filtered_xtb)"
   ]
  },
  {
   "cell_type": "markdown",
   "id": "09b193c9-39c0-452d-8e69-76dc0acff73b",
   "metadata": {},
   "source": [
    "# Backup slides"
   ]
  },
  {
   "cell_type": "code",
   "execution_count": null,
   "id": "5e208a2f-4a36-4161-a37e-e206a8e9b2ae",
   "metadata": {},
   "outputs": [],
   "source": [
    "%%time\n",
    "molobj_3d_xtb, energies = optimize_molobj(molobj_3d, n_cores=N_CORES)"
   ]
  },
  {
   "cell_type": "code",
   "execution_count": null,
   "id": "ec1c8bbc-c594-40c2-a425-eb4a67141ec6",
   "metadata": {},
   "outputs": [],
   "source": [
    "%%time\n",
    "shapes_unfiltered_optimized = calculate_shape(molobj_3d_xtb)"
   ]
  },
  {
   "cell_type": "code",
   "execution_count": null,
   "id": "4fbce1d1-880e-40cb-bbec-36d47a605708",
   "metadata": {},
   "outputs": [],
   "source": [
    "fig, ax = get_plot()\n",
    "ax.plot(*shapes_unfiltered_optimized, \"ko\", ms=5)\n",
    "ax.set_xlabel(\"SASA\")\n",
    "ax.set_ylabel(\"Dipole\")\n",
    "fix_borders(ax)"
   ]
  },
  {
   "cell_type": "markdown",
   "id": "5bc34445-f5e3-41e1-8b66-ad29a0e2f1d0",
   "metadata": {},
   "source": [
    "## Is there a problem looking at the pre-optimization conformer?"
   ]
  },
  {
   "cell_type": "code",
   "execution_count": null,
   "id": "b3db64bd-da13-4496-8a72-ecb8b2293305",
   "metadata": {},
   "outputs": [],
   "source": [
    "fig, ax = get_plot(n_ax=1)\n",
    "\n",
    "ax.plot(*shapes_unfiltered, \"go\", alpha=0.5)\n",
    "ax.plot(*shapes_unfiltered_optimized, \"k.\", alpha=0.2)\n",
    "\n",
    "shapes_diff = shapes_unfiltered_optimized - shapes_unfiltered\n",
    "\n",
    "ax.quiver(\n",
    "    *shapes_unfiltered,\n",
    "    *shapes_diff,\n",
    "    alpha=0.15,\n",
    "    zorder=10,\n",
    "    angles='xy', scale_units='xy', scale=1\n",
    ")\n",
    "\n",
    "ax.set_xlabel(\"SASA\")\n",
    "ax.set_ylabel(\"Dipole\")\n",
    "ax.set_title(\"Conformer movement in shape space with optimization\")\n",
    "\n",
    "fix_borders(ax)"
   ]
  },
  {
   "cell_type": "markdown",
   "id": "25f9cd56-0c8f-4785-8d3f-ff627cd4715c",
   "metadata": {},
   "source": [
    "answer: Maybe? It's an approximation"
   ]
  },
  {
   "cell_type": "code",
   "execution_count": null,
   "id": "c5d334d5-add3-4520-b886-9452a656690c",
   "metadata": {},
   "outputs": [],
   "source": []
  },
  {
   "cell_type": "code",
   "execution_count": null,
   "id": "6859a59c-af15-4bc9-91c4-3258c824c4f9",
   "metadata": {},
   "outputs": [],
   "source": []
  },
  {
   "cell_type": "code",
   "execution_count": null,
   "id": "f8dda6d0-be27-470e-8917-3d960e463b46",
   "metadata": {},
   "outputs": [],
   "source": []
  },
  {
   "cell_type": "code",
   "execution_count": null,
   "id": "6c958f18-2a05-42ed-b6ef-ce7b87b22662",
   "metadata": {},
   "outputs": [],
   "source": []
  }
 ],
 "metadata": {
  "language_info": {
   "name": "python"
  }
 },
 "nbformat": 4,
 "nbformat_minor": 5
}
