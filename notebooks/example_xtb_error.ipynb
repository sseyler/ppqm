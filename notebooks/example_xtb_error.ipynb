{
 "cells": [
  {
   "cell_type": "markdown",
   "id": "f0f72cf8-194d-4869-a074-6ae92c7dae60",
   "metadata": {},
   "source": [
    "# Example of handling bad molecules\n",
    "\n",
    "If you give a bad conformer, of course xTB will not be able to calculate any properties.\n",
    "This is an example of how ppqm handles that\n"
   ]
  },
  {
   "cell_type": "code",
   "execution_count": null,
   "id": "instant-agenda",
   "metadata": {},
   "outputs": [],
   "source": [
    "%load_ext autoreload\n",
    "%autoreload 2\n",
    "%matplotlib inline"
   ]
  },
  {
   "cell_type": "code",
   "execution_count": null,
   "id": "worst-developer",
   "metadata": {},
   "outputs": [],
   "source": [
    "import logging\n",
    "import sys"
   ]
  },
  {
   "cell_type": "code",
   "execution_count": null,
   "id": "rotary-issue",
   "metadata": {},
   "outputs": [],
   "source": [
    "import pandas as pd\n",
    "from rdkit import Chem\n",
    "from rdkit.Chem.Draw import MolsToGridImage"
   ]
  },
  {
   "cell_type": "code",
   "execution_count": null,
   "id": "later-vault",
   "metadata": {},
   "outputs": [],
   "source": [
    "try:\n",
    "    import ppqm\n",
    "except ModuleNotFoundError:\n",
    "    import pathlib\n",
    "\n",
    "    cwd = pathlib.Path().resolve().parent\n",
    "    sys.path.append(str(cwd))\n",
    "    import ppqm"
   ]
  },
  {
   "cell_type": "code",
   "execution_count": null,
   "id": "178b4a1e-5194-4aa4-b74f-2484f589cf8d",
   "metadata": {},
   "outputs": [],
   "source": [
    "from ppqm import jupyter as ppqm_jupyter"
   ]
  },
  {
   "cell_type": "markdown",
   "id": "controlling-dallas",
   "metadata": {},
   "source": [
    "## Set logging level"
   ]
  },
  {
   "cell_type": "code",
   "execution_count": null,
   "id": "warming-candidate",
   "metadata": {},
   "outputs": [],
   "source": [
    "logging.basicConfig(stream=sys.stdout, level=logging.INFO)\n",
    "logging.getLogger(\"ppqm\").setLevel(logging.INFO)\n",
    "logging.getLogger(\"xtb\").setLevel(logging.DEBUG)\n",
    "show_progress = False"
   ]
  },
  {
   "cell_type": "markdown",
   "id": "disturbed-transport",
   "metadata": {},
   "source": [
    "## Define a molecule you like"
   ]
  },
  {
   "cell_type": "code",
   "execution_count": null,
   "id": "taken-agent",
   "metadata": {},
   "outputs": [],
   "source": [
    "smiles = \"Cc1cc(NCCO)nc(-c2ccc(Br)cc2)n1\"  # CHEMBL1956589\n",
    "molobj = Chem.MolFromSmiles(smiles)"
   ]
  },
  {
   "cell_type": "code",
   "execution_count": null,
   "id": "entertaining-compatibility",
   "metadata": {},
   "outputs": [],
   "source": [
    "molobj"
   ]
  },
  {
   "cell_type": "markdown",
   "id": "burning-humanitarian",
   "metadata": {},
   "source": [
    "## Get a conformer, and make it physically impossible\n",
    "\n",
    "- Get a conformer from rdkit\n",
    "- Change bond length to make it bad\n"
   ]
  },
  {
   "cell_type": "code",
   "execution_count": null,
   "id": "blocked-calculation",
   "metadata": {},
   "outputs": [],
   "source": [
    "molobj = ppqm.tasks.generate_conformers(molobj, n_conformers=1)"
   ]
  },
  {
   "cell_type": "code",
   "execution_count": null,
   "id": "sporting-universe",
   "metadata": {},
   "outputs": [],
   "source": [
    "molobj"
   ]
  },
  {
   "cell_type": "code",
   "execution_count": null,
   "id": "statutory-google",
   "metadata": {},
   "outputs": [],
   "source": [
    "coordinates = ppqm.chembridge.get_coordinates(molobj)"
   ]
  },
  {
   "cell_type": "code",
   "execution_count": null,
   "id": "composite-darwin",
   "metadata": {},
   "outputs": [],
   "source": [
    "atoms = ppqm.chembridge.get_atoms(molobj)"
   ]
  },
  {
   "cell_type": "code",
   "execution_count": null,
   "id": "sound-dutch",
   "metadata": {},
   "outputs": [],
   "source": [
    "atoms"
   ]
  },
  {
   "cell_type": "code",
   "execution_count": null,
   "id": "present-drawing",
   "metadata": {},
   "outputs": [],
   "source": [
    "coordinates[0, :] = 0.0\n",
    "coordinates[1, :] = 0.0"
   ]
  },
  {
   "cell_type": "code",
   "execution_count": null,
   "id": "helpful-catering",
   "metadata": {},
   "outputs": [],
   "source": [
    "ppqm.chembridge.molobj_set_coordinates(molobj, coordinates)"
   ]
  },
  {
   "cell_type": "code",
   "execution_count": null,
   "id": "sunset-samoa",
   "metadata": {},
   "outputs": [],
   "source": [
    "ppqm_jupyter.show_molobj(molobj)"
   ]
  },
  {
   "cell_type": "markdown",
   "id": "supreme-cooper",
   "metadata": {},
   "source": [
    "## Try to optimize this bad conformer"
   ]
  },
  {
   "cell_type": "code",
   "execution_count": null,
   "id": "growing-court",
   "metadata": {},
   "outputs": [],
   "source": [
    "xtb = ppqm.XtbCalculator(scr=\"_tmp_directory_\", n_cores=1, cmd=\"xtb\")"
   ]
  },
  {
   "cell_type": "code",
   "execution_count": null,
   "id": "subject-berkeley",
   "metadata": {},
   "outputs": [],
   "source": [
    "calculation = {\n",
    "    \"gfn\": 2,\n",
    "    \"alpb\": \"water\",\n",
    "    \"opt\": None,\n",
    "}"
   ]
  },
  {
   "cell_type": "code",
   "execution_count": null,
   "id": "working-spell",
   "metadata": {},
   "outputs": [],
   "source": [
    "results = xtb.calculate(molobj, calculation)"
   ]
  },
  {
   "cell_type": "code",
   "execution_count": null,
   "id": "turkish-hayes",
   "metadata": {},
   "outputs": [],
   "source": [
    "results"
   ]
  },
  {
   "cell_type": "markdown",
   "id": "removed-course",
   "metadata": {},
   "source": [
    "And we can see that we see the xTB error message in the log, and the returning result is None"
   ]
  }
 ],
 "metadata": {
  "language_info": {
   "name": "python"
  }
 },
 "nbformat": 4,
 "nbformat_minor": 5
}
