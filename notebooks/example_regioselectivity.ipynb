{
 "cells": [
  {
   "cell_type": "markdown",
   "id": "fancy-tuning",
   "metadata": {},
   "source": [
    "# Example: Fast and accurate prediction of the regioselectivity of electrophilic aromatic substitution reactions\n",
    "\n",
    "RegioSQM method protonates all aromatic C–H carbon atoms and identifies those with the lowest free energies in **solvent** using the semiempirical quantum chemical **method** as the most nucleophilic center.\n",
    "\n",
    "As per the Regio2020 version, in this example we are using\n",
    "**xTB GFN1** in **Methanol**\n",
    "\n",
    "Reference\n",
    "- https://doi.org/10.1039/C7SC04156J\n",
    "- https://doi.org/10.1186/s13321-021-00490-7\n",
    "- https://github.com/jensengroup/regiosqm\n",
    "- https://github.com/NicolaiRee/RegioSQM20\n"
   ]
  },
  {
   "cell_type": "code",
   "execution_count": null,
   "id": "green-project",
   "metadata": {},
   "outputs": [],
   "source": [
    "%load_ext autoreload\n",
    "%autoreload 2\n",
    "%matplotlib inline"
   ]
  },
  {
   "cell_type": "code",
   "execution_count": null,
   "id": "composite-gauge",
   "metadata": {},
   "outputs": [],
   "source": [
    "import logging\n",
    "import sys"
   ]
  },
  {
   "cell_type": "code",
   "execution_count": null,
   "id": "serious-group",
   "metadata": {},
   "outputs": [],
   "source": [
    "from tqdm import tqdm"
   ]
  },
  {
   "cell_type": "code",
   "execution_count": null,
   "id": "developed-infrastructure",
   "metadata": {},
   "outputs": [],
   "source": [
    "tqdm.pandas()  # Show progress bars on pandas functions"
   ]
  },
  {
   "cell_type": "code",
   "execution_count": null,
   "id": "together-currency",
   "metadata": {},
   "outputs": [],
   "source": [
    "import numpy as np\n",
    "import pandas as pd\n",
    "from IPython.display import SVG\n",
    "from rdkit import Chem\n",
    "from rdkit.Chem import AllChem, PandasTools\n",
    "from rdkit.Chem.Draw import MolsToGridImage, MolToImage, rdMolDraw2D"
   ]
  },
  {
   "cell_type": "code",
   "execution_count": null,
   "id": "naval-advisory",
   "metadata": {},
   "outputs": [],
   "source": [
    "try:\n",
    "    import ppqm\n",
    "except ModuleNotFoundError:\n",
    "    import pathlib\n",
    "\n",
    "    cwd = pathlib.Path().resolve().parent\n",
    "    sys.path.append(str(cwd))\n",
    "    import ppqm"
   ]
  },
  {
   "cell_type": "code",
   "execution_count": null,
   "id": "european-feeling",
   "metadata": {},
   "outputs": [],
   "source": [
    "# Set logging\n",
    "logging.basicConfig(stream=sys.stdout, level=logging.INFO)\n",
    "logging.getLogger(\"ppqm\").setLevel(logging.INFO)\n",
    "logging.getLogger(\"xtb\").setLevel(logging.INFO)\n",
    "show_progress = True"
   ]
  },
  {
   "cell_type": "code",
   "execution_count": null,
   "id": "105b15cc-f1f0-4440-b62a-dd56d3acc2b3",
   "metadata": {},
   "outputs": [],
   "source": [
    "# Set DataFrames visuals\n",
    "PandasTools.RenderImagesInAllDataFrames(images=True)\n",
    "pd.set_option('display.float_format','{:.2f}'.format)"
   ]
  },
  {
   "cell_type": "markdown",
   "id": "8ae9c8f6-fa75-4925-b9b4-275d8485fb16",
   "metadata": {},
   "source": [
    "## Define protonation reactions with SMARTS"
   ]
  },
  {
   "cell_type": "code",
   "execution_count": null,
   "id": "desperate-working",
   "metadata": {},
   "outputs": [],
   "source": [
    "reaction1 = AllChem.ReactionFromSmarts(\"[C;R;H1:1]=[C,N;R;H1:2]>>[CH2:1][*H+:2]\")\n",
    "reaction2 = AllChem.ReactionFromSmarts(\"[C;R;H1:1]=[C,N;R;H0:2]>>[CH2:1][*+;H0:2]\")"
   ]
  },
  {
   "cell_type": "code",
   "execution_count": null,
   "id": "prospective-eligibility",
   "metadata": {},
   "outputs": [],
   "source": [
    "reaction1"
   ]
  },
  {
   "cell_type": "code",
   "execution_count": null,
   "id": "incomplete-powder",
   "metadata": {},
   "outputs": [],
   "source": [
    "reaction2"
   ]
  },
  {
   "cell_type": "markdown",
   "id": "bottom-spouse",
   "metadata": {},
   "source": [
    "## Define a molecule you like"
   ]
  },
  {
   "cell_type": "code",
   "execution_count": null,
   "id": "steady-mystery",
   "metadata": {},
   "outputs": [],
   "source": [
    "smiles = \"Cc1cc(NCCO)nc(-c2ccc(Br)cc2)n1\"  # CHEMBL1956589\n",
    "molobj = Chem.MolFromSmiles(smiles)"
   ]
  },
  {
   "cell_type": "code",
   "execution_count": null,
   "id": "comparative-suggestion",
   "metadata": {},
   "outputs": [],
   "source": [
    "molobj"
   ]
  },
  {
   "cell_type": "code",
   "execution_count": null,
   "id": "collectible-penetration",
   "metadata": {},
   "outputs": [],
   "source": [
    "Chem.Kekulize(molobj, clearAromaticFlags=True)"
   ]
  },
  {
   "cell_type": "markdown",
   "id": "necessary-copying",
   "metadata": {
    "lines_to_next_cell": 2
   },
   "source": [
    "## Protonate all aromatic carbons\n",
    "\n",
    "\n"
   ]
  },
  {
   "cell_type": "code",
   "execution_count": null,
   "id": "compact-reverse",
   "metadata": {},
   "outputs": [],
   "source": [
    "def get_target_atoms(molobj, target):\n",
    "    \"\"\" Find target atom indices from SMART \"\"\"\n",
    "    atoms = molobj.GetSubstructMatches(target)\n",
    "    # convert tuple of tuple to one-dimensional list\n",
    "    atoms = [element for tupl in atoms for element in tupl]\n",
    "    return atoms"
   ]
  },
  {
   "cell_type": "code",
   "execution_count": null,
   "id": "spiritual-midwest",
   "metadata": {},
   "outputs": [],
   "source": [
    "molobjs = []\n",
    "target_atoms = []\n",
    "\n",
    "smarts_1 = Chem.MolFromSmarts(\"[C;R;H1:1]=[C,N;R;H1:2]\")\n",
    "smarts_2 = Chem.MolFromSmarts(\"[C;R;H1:1]=[C,N;R;H0:2]\")\n",
    "atoms_1 = get_target_atoms(molobj, smarts_1)\n",
    "atoms_2 = get_target_atoms(molobj, smarts_2)\n",
    "\n",
    "i = 0\n",
    "products_1 = reaction1.RunReactants((molobj,))\n",
    "for x in products_1:\n",
    "\n",
    "    molobj_prime = x[0]\n",
    "    smiles = Chem.MolToSmiles(molobj_prime)\n",
    "    smiles = smiles.replace(\"NH2+\", \"N+\")\n",
    "    molobj_prime = Chem.MolFromSmiles(smiles)\n",
    "\n",
    "    molobjs.append(molobj_prime)\n",
    "    target_atoms.append(atoms_1[i])\n",
    "\n",
    "    i += 1\n",
    "\n",
    "isav = i\n",
    "\n",
    "products_2 = reaction2.RunReactants((molobj,))\n",
    "for x in products_2:\n",
    "\n",
    "    molobj_prime = x[0]\n",
    "    smiles = Chem.MolToSmiles(molobj_prime)\n",
    "    smiles = smiles.replace(\"NH2+\", \"N+\")\n",
    "    molobj_prime = Chem.MolFromSmiles(smiles)\n",
    "\n",
    "    molobjs.append(molobj_prime)\n",
    "    target_atoms.append(atoms_2[2 * (i - isav) - 2])\n",
    "\n",
    "    i += 1"
   ]
  },
  {
   "cell_type": "code",
   "execution_count": null,
   "id": "competent-import",
   "metadata": {},
   "outputs": [],
   "source": [
    "MolsToGridImage(\n",
    "    molobjs,\n",
    "    molsPerRow=3,\n",
    "    subImgSize=(250, 250),\n",
    "    useSVG=True,\n",
    ")"
   ]
  },
  {
   "cell_type": "code",
   "execution_count": null,
   "id": "amber-cleanup",
   "metadata": {},
   "outputs": [],
   "source": [
    "[Chem.MolToSmiles(m) for m in molobjs]"
   ]
  },
  {
   "cell_type": "markdown",
   "id": "silver-regression",
   "metadata": {},
   "source": [
    "## Now let's find out which are most stable using quantum chemistry"
   ]
  },
  {
   "cell_type": "code",
   "execution_count": null,
   "id": "adopted-collector",
   "metadata": {},
   "outputs": [],
   "source": [
    "df = pd.DataFrame(molobjs, columns=[\"molobj\"])\n",
    "df[\"atom_index\"] = target_atoms"
   ]
  },
  {
   "cell_type": "code",
   "execution_count": null,
   "id": "pursuant-return",
   "metadata": {},
   "outputs": [],
   "source": [
    "df"
   ]
  },
  {
   "cell_type": "code",
   "execution_count": null,
   "id": "second-advice",
   "metadata": {},
   "outputs": [],
   "source": [
    "xtb = ppqm.xtb.XtbCalculator(scr=\"_tmp_directory_\", n_cores=2, cmd=\"xtb\", show_progress=False)\n",
    "xtb"
   ]
  },
  {
   "cell_type": "markdown",
   "id": "fabulous-national",
   "metadata": {
    "lines_to_next_cell": 2
   },
   "source": [
    "Let's define a function that we can map onto a pandas DataFrame on each row. We want to calculate the energy for each site which requires some conformer expansion. We are only interested in the lowest energy per conformer."
   ]
  },
  {
   "cell_type": "code",
   "execution_count": null,
   "id": "atomic-constraint",
   "metadata": {},
   "outputs": [],
   "source": [
    "def calculate_energy(molobj):\n",
    "    \"\"\"\n",
    "\n",
    "    For each protonated molecule\n",
    "\n",
    "    - Generate conformers (max 20 conformers)\n",
    "    - Minimize all conformers\n",
    "    - Get the energy for each conformer\n",
    "    - Return the lowest energy\n",
    "\n",
    "    \"\"\"\n",
    "\n",
    "    xtb_options = {\n",
    "        \"gfn\": 1,\n",
    "        \"alpb\": \"Methanol\",\n",
    "        \"opt\": None,\n",
    "    }\n",
    "\n",
    "    # Generate conformers\n",
    "    molobj = ppqm.tasks.generate_conformers(molobj, max_conformers=20)\n",
    "\n",
    "    # Optimize with xTB\n",
    "    results = xtb.calculate(molobj, xtb_options)\n",
    "\n",
    "    # Collect energies and find lowest\n",
    "    conformer_energies = [result[\"scc_energy\"] for result in results]\n",
    "    min_energy = np.min(conformer_energies)\n",
    "    min_energy *= ppqm.units.hartree_to_kcalmol\n",
    "\n",
    "    return min_energy"
   ]
  },
  {
   "cell_type": "code",
   "execution_count": null,
   "id": "immune-college",
   "metadata": {},
   "outputs": [],
   "source": [
    "# example usage: reference_energy = calculate_energy(molobj)"
   ]
  },
  {
   "cell_type": "code",
   "execution_count": null,
   "id": "animated-roots",
   "metadata": {},
   "outputs": [],
   "source": [
    "df[\"energy\"] = df[\"molobj\"].progress_apply(calculate_energy)"
   ]
  },
  {
   "cell_type": "code",
   "execution_count": null,
   "id": "liquid-standing",
   "metadata": {},
   "outputs": [],
   "source": [
    "df[\"rel_energy\"] = df[\"energy\"].values - np.min(df[\"energy\"].values)"
   ]
  },
  {
   "cell_type": "code",
   "execution_count": null,
   "id": "capable-opportunity",
   "metadata": {},
   "outputs": [],
   "source": [
    "df"
   ]
  },
  {
   "cell_type": "code",
   "execution_count": null,
   "id": "exterior-exhaust",
   "metadata": {},
   "outputs": [],
   "source": [
    "# Define energy cutoffs\n",
    "cutoff1 = 1.0  # kcal/mol\n",
    "cutoff2 = 3.0  # kcal/mol\n",
    "\n",
    "# Define pretty colors\n",
    "colors = dict()\n",
    "colors[\"green\"] = (119, 198, 110)\n",
    "colors[\"green\"] = tuple(x/255 for x in colors[\"green\"])\n",
    "colors[\"red\"] = (201, 43, 38)\n",
    "colors[\"red\"] = tuple(x/255 for x in colors[\"red\"])\n",
    "\n",
    "# Find reactive centers and convert index type to int.\n",
    "# rdkit doesn't understand np.int\n",
    "green_indices = df[df[\"rel_energy\"] < cutoff1][\"atom_index\"].values\n",
    "green_indices = [int(x) for x in green_indices]\n",
    "red_indices = df[df[\"rel_energy\"] < cutoff2][\"atom_index\"].values\n",
    "red_indices = [int(x) for x in red_indices if x not in green_indices]\n",
    "\n",
    "# All highlights\n",
    "highlights = green_indices + red_indices\n",
    "\n",
    "# Map highlight to a color\n",
    "colormap = dict()\n",
    "colormap.update({key: [colors[\"green\"]] for key in green_indices})\n",
    "colormap.update({key: [colors[\"red\"]] for key in red_indices})"
   ]
  },
  {
   "cell_type": "code",
   "execution_count": null,
   "id": "lovely-function",
   "metadata": {},
   "outputs": [],
   "source": [
    "# should be working, but does not respect colors\n",
    "# MolToImage(\n",
    "#    molobj,\n",
    "#    highlightAtoms=highlights,\n",
    "#    highlightMap=colormap,\n",
    "#    size=(500,500),\n",
    "# )"
   ]
  },
  {
   "cell_type": "code",
   "execution_count": null,
   "id": "mechanical-thermal",
   "metadata": {},
   "outputs": [],
   "source": [
    "# http://rdkit.blogspot.com/2020/04/new-drawing-options-in-202003-release.html\n",
    "d2d = rdMolDraw2D.MolDraw2DSVG(500, 500)\n",
    "d2d.DrawMoleculeWithHighlights(molobj, \"Regioselective site(s)\", dict(colormap), {}, {}, {})\n",
    "d2d.FinishDrawing()\n",
    "SVG(d2d.GetDrawingText())"
   ]
  }
 ],
 "metadata": {
  "language_info": {
   "name": "python"
  }
 },
 "nbformat": 4,
 "nbformat_minor": 5
}
