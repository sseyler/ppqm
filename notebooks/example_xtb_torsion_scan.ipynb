{
 "cells": [
  {
   "cell_type": "markdown",
   "id": "75e952ef-d093-4e38-bdd5-113754d7d0b4",
   "metadata": {},
   "source": [
    "# Example of energy scan of a torsion angle\n",
    "\n",
    "Always super interesting to see the energy landscape of a conformational change.\n",
    "And who needs a GUI for that, just use RDKit and xTB\n"
   ]
  },
  {
   "cell_type": "code",
   "execution_count": null,
   "id": "previous-amendment",
   "metadata": {},
   "outputs": [],
   "source": [
    "%load_ext autoreload\n",
    "%autoreload 2\n",
    "%matplotlib inline"
   ]
  },
  {
   "cell_type": "code",
   "execution_count": null,
   "id": "requested-scout",
   "metadata": {},
   "outputs": [],
   "source": [
    "import copy\n",
    "import logging\n",
    "import sys"
   ]
  },
  {
   "cell_type": "code",
   "execution_count": null,
   "id": "destroyed-ideal",
   "metadata": {},
   "outputs": [],
   "source": [
    "import matplotlib as mpl\n",
    "import matplotlib.pyplot as plt\n",
    "import numpy as np\n",
    "import pandas as pd\n",
    "import rdkit\n",
    "from rdkit import Chem\n",
    "from rdkit.Chem.Draw import MolsToGridImage, MolToImage"
   ]
  },
  {
   "cell_type": "code",
   "execution_count": null,
   "id": "increased-industry",
   "metadata": {},
   "outputs": [],
   "source": [
    "try:\n",
    "    import ppqm\n",
    "except ModuleNotFoundError:\n",
    "    import pathlib\n",
    "\n",
    "    cwd = pathlib.Path().resolve().parent\n",
    "    sys.path.append(str(cwd))\n",
    "    import ppqm\n",
    "\n",
    "from ppqm import chembridge\n",
    "from ppqm import jupyter as ppqm_jupyter"
   ]
  },
  {
   "cell_type": "markdown",
   "id": "heated-daughter",
   "metadata": {},
   "source": [
    "## Set logging level"
   ]
  },
  {
   "cell_type": "code",
   "execution_count": null,
   "id": "lyric-religious",
   "metadata": {},
   "outputs": [],
   "source": [
    "logging.basicConfig(stream=sys.stdout, level=logging.INFO)\n",
    "logging.getLogger(\"ppqm\").setLevel(logging.INFO)\n",
    "logging.getLogger(\"xtb\").setLevel(logging.INFO)\n",
    "show_progress = True"
   ]
  },
  {
   "cell_type": "markdown",
   "id": "owned-proportion",
   "metadata": {},
   "source": [
    "## Define a molecule you like"
   ]
  },
  {
   "cell_type": "code",
   "execution_count": null,
   "id": "abstract-bicycle",
   "metadata": {},
   "outputs": [],
   "source": [
    "smiles = \"[Cl]c2ccccc2c1ccccc1\"  # 1-chloro-2-phenylbenzene\n",
    "molobj = Chem.MolFromSmiles(smiles)"
   ]
  },
  {
   "cell_type": "code",
   "execution_count": null,
   "id": "twelve-mills",
   "metadata": {},
   "outputs": [],
   "source": [
    "molobj"
   ]
  },
  {
   "cell_type": "markdown",
   "id": "distant-southwest",
   "metadata": {},
   "source": [
    "## Get some 3D conformers (RDKit)"
   ]
  },
  {
   "cell_type": "code",
   "execution_count": null,
   "id": "stuffed-vintage",
   "metadata": {},
   "outputs": [],
   "source": [
    "molobj = ppqm.tasks.generate_conformers(molobj, n_conformers=1)"
   ]
  },
  {
   "cell_type": "code",
   "execution_count": null,
   "id": "shared-jumping",
   "metadata": {},
   "outputs": [],
   "source": [
    "ppqm_jupyter.show_molobj(molobj)"
   ]
  },
  {
   "cell_type": "code",
   "execution_count": null,
   "id": "determined-committee",
   "metadata": {},
   "outputs": [],
   "source": [
    "torsion_indices = [5, 6, 7, 8]"
   ]
  },
  {
   "cell_type": "code",
   "execution_count": null,
   "id": "conventional-companion",
   "metadata": {},
   "outputs": [],
   "source": [
    "MolToImage(\n",
    "    Chem.RemoveHs(chembridge.copy_molobj(molobj)),\n",
    "    highlightAtoms=torsion_indices,\n",
    "    size=(500, 500),\n",
    ")"
   ]
  },
  {
   "cell_type": "code",
   "execution_count": null,
   "id": "colored-malawi",
   "metadata": {},
   "outputs": [],
   "source": [
    "conformer = molobj.GetConformer()\n",
    "origin = conformer.GetPositions()"
   ]
  },
  {
   "cell_type": "code",
   "execution_count": null,
   "id": "ceramic-tournament",
   "metadata": {},
   "outputs": [],
   "source": [
    "angle = Chem.rdMolTransforms.GetDihedralDeg(conformer, *torsion_indices)\n",
    "angle"
   ]
  },
  {
   "cell_type": "code",
   "execution_count": null,
   "id": "earlier-indiana",
   "metadata": {},
   "outputs": [],
   "source": [
    "steps = 100\n",
    "delta_angles = np.linspace(0, 360, steps)\n",
    "delta_angles = delta_angles[1:]"
   ]
  },
  {
   "cell_type": "code",
   "execution_count": null,
   "id": "sweet-fusion",
   "metadata": {},
   "outputs": [],
   "source": [
    "for step in delta_angles:\n",
    "\n",
    "    conformer_prime = rdkit.Chem.Conformer(conformer)\n",
    "\n",
    "    angle_prime = angle + step\n",
    "\n",
    "    Chem.rdMolTransforms.SetDihedralDeg(conformer_prime, *torsion_indices, angle_prime)\n",
    "    molobj.AddConformer(conformer_prime, assignId=True)"
   ]
  },
  {
   "cell_type": "code",
   "execution_count": null,
   "id": "mounted-arcade",
   "metadata": {},
   "outputs": [],
   "source": [
    "molobj.GetNumConformers()"
   ]
  },
  {
   "cell_type": "code",
   "execution_count": null,
   "id": "faced-provision",
   "metadata": {},
   "outputs": [],
   "source": [
    "ppqm_jupyter.show_molobj(molobj, align_conformers=False)"
   ]
  },
  {
   "cell_type": "markdown",
   "id": "stylish-cambridge",
   "metadata": {},
   "source": [
    "## Calculate the energy barrier"
   ]
  },
  {
   "cell_type": "code",
   "execution_count": null,
   "id": "liable-kentucky",
   "metadata": {},
   "outputs": [],
   "source": [
    "xtb = ppqm.XtbCalculator(\n",
    "    scr=\"_tmp_directory_\",\n",
    "    n_cores=2,\n",
    "    cmd=\"xtb\",\n",
    "    show_progress=show_progress,\n",
    ")\n",
    "\n",
    "\n",
    "def calculate_energies(molobj):\n",
    "\n",
    "    xtb_options = {\"gfn\": 2}\n",
    "\n",
    "    results = xtb.calculate(molobj, xtb_options)\n",
    "    energies = [result[\"scc_energy\"] for result in results]\n",
    "\n",
    "    energies = np.array(energies)\n",
    "    energies *= ppqm.units.hartree_to_kcalmol\n",
    "    energies -= np.min(energies)\n",
    "\n",
    "    return energies"
   ]
  },
  {
   "cell_type": "code",
   "execution_count": null,
   "id": "trying-purple",
   "metadata": {},
   "outputs": [],
   "source": [
    "energies = calculate_energies(molobj)"
   ]
  },
  {
   "cell_type": "markdown",
   "id": "collective-bouquet",
   "metadata": {},
   "source": [
    "## Show the energy barrier"
   ]
  },
  {
   "cell_type": "code",
   "execution_count": null,
   "id": "intensive-fourth",
   "metadata": {},
   "outputs": [],
   "source": [
    "_ = plt.plot([angle] + list(angle + delta_angles), energies)"
   ]
  },
  {
   "cell_type": "code",
   "execution_count": null,
   "id": "50662b7b-c1da-4d28-9834-f690c360e738",
   "metadata": {},
   "outputs": [],
   "source": []
  }
 ],
 "metadata": {
  "language_info": {
   "name": "python"
  }
 },
 "nbformat": 4,
 "nbformat_minor": 5
}
