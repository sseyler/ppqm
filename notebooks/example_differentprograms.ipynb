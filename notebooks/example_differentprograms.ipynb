{
 "cells": [
  {
   "cell_type": "markdown",
   "id": "201cb82a-64b7-499b-a2ac-a3654bbd216c",
   "metadata": {},
   "source": [
    "## Interface to different programs\n",
    "\n",
    "PPQM has interfaces to different QM programs, making it easy to calculate properties with different programs on the same RDKit molobj\n",
    "\n"
   ]
  },
  {
   "cell_type": "code",
   "execution_count": null,
   "id": "experimental-wings",
   "metadata": {},
   "outputs": [],
   "source": [
    "%load_ext autoreload\n",
    "%autoreload 2\n",
    "%matplotlib inline"
   ]
  },
  {
   "cell_type": "code",
   "execution_count": null,
   "id": "transparent-rebel",
   "metadata": {},
   "outputs": [],
   "source": [
    "import logging\n",
    "import sys"
   ]
  },
  {
   "cell_type": "code",
   "execution_count": null,
   "id": "instant-executive",
   "metadata": {},
   "outputs": [],
   "source": [
    "import pandas as pd\n",
    "from rdkit import Chem\n",
    "from rdkit.Chem.Draw import MolsToGridImage"
   ]
  },
  {
   "cell_type": "code",
   "execution_count": null,
   "id": "seeing-heavy",
   "metadata": {},
   "outputs": [],
   "source": [
    "try:\n",
    "    import ppqm\n",
    "except ModuleNotFoundError:\n",
    "    import pathlib\n",
    "\n",
    "    cwd = pathlib.Path().resolve().parent\n",
    "    sys.path.append(str(cwd))\n",
    "    import ppqm"
   ]
  },
  {
   "cell_type": "markdown",
   "id": "fiscal-marketplace",
   "metadata": {},
   "source": [
    "## Set logging level"
   ]
  },
  {
   "cell_type": "code",
   "execution_count": null,
   "id": "hungarian-tower",
   "metadata": {},
   "outputs": [],
   "source": [
    "logging.basicConfig(stream=sys.stdout, level=logging.INFO)\n",
    "logging.getLogger(\"ppqm\").setLevel(logging.INFO)\n",
    "\n",
    "logging.getLogger(\"xtb\").setLevel(logging.DEBUG)\n",
    "logging.getLogger(\"gamess\").setLevel(logging.DEBUG)\n",
    "logging.getLogger(\"mopac\").setLevel(logging.DEBUG)\n",
    "\n",
    "show_progress = False"
   ]
  },
  {
   "cell_type": "markdown",
   "id": "alternative-azerbaijan",
   "metadata": {},
   "source": [
    "## Define a molecule you like"
   ]
  },
  {
   "cell_type": "code",
   "execution_count": null,
   "id": "bored-framing",
   "metadata": {},
   "outputs": [],
   "source": [
    "smiles = \"NCC(=O)N[C@H]1CO[C@@H](c2ccc([N+](=O)[O-])cc2)OC1\"  # CHEMBL260511\n",
    "molobj = Chem.MolFromSmiles(smiles)"
   ]
  },
  {
   "cell_type": "code",
   "execution_count": null,
   "id": "unexpected-checkout",
   "metadata": {},
   "outputs": [],
   "source": [
    "molobj"
   ]
  },
  {
   "cell_type": "markdown",
   "id": "green-california",
   "metadata": {},
   "source": [
    "## Get some 3D conformers (RDKit)"
   ]
  },
  {
   "cell_type": "code",
   "execution_count": null,
   "id": "european-ordering",
   "metadata": {},
   "outputs": [],
   "source": [
    "molobj = ppqm.tasks.generate_conformers(molobj)"
   ]
  },
  {
   "cell_type": "code",
   "execution_count": null,
   "id": "vietnamese-panel",
   "metadata": {},
   "outputs": [],
   "source": [
    "molobj.GetNumConformers()"
   ]
  },
  {
   "cell_type": "markdown",
   "id": "tested-surgery",
   "metadata": {},
   "source": [
    "## Different programs, requires different settings"
   ]
  },
  {
   "cell_type": "code",
   "execution_count": null,
   "id": "sunset-essence",
   "metadata": {},
   "outputs": [],
   "source": [
    "# Define different programs\n",
    "\n",
    "calculator_options = {\"scr\": \"_tmp_directory_\", \"n_cores\": 2, \"show_progress\": show_progress}\n",
    "\n",
    "mopac = ppqm.MopacCalculator(cmd=\"mopac\", **calculator_options)\n",
    "gamess = ppqm.GamessCalculator(\n",
    "    cmd=\"rungms\", gamess_userscr=\"~/scr\", gamess_scr=\"~/scr\", **calculator_options\n",
    ")\n",
    "xtb = ppqm.XtbCalculator(cmd=\"xtb\", **calculator_options)"
   ]
  },
  {
   "cell_type": "code",
   "execution_count": null,
   "id": "boring-minutes",
   "metadata": {},
   "outputs": [],
   "source": [
    "mopac"
   ]
  },
  {
   "cell_type": "code",
   "execution_count": null,
   "id": "flying-family",
   "metadata": {},
   "outputs": [],
   "source": [
    "xtb"
   ]
  },
  {
   "cell_type": "code",
   "execution_count": null,
   "id": "proof-palmer",
   "metadata": {},
   "outputs": [],
   "source": [
    "gamess"
   ]
  },
  {
   "cell_type": "markdown",
   "id": "italic-royalty",
   "metadata": {},
   "source": [
    "## Different input and different output"
   ]
  },
  {
   "cell_type": "code",
   "execution_count": null,
   "id": "diagnostic-scope",
   "metadata": {},
   "outputs": [],
   "source": [
    "%%time\n",
    "mopac_options = {\n",
    "    \"pm3\": None,\n",
    "    \"precise\": None,\n",
    "    \"mullik\": None,\n",
    "    \"eps\": 78.4,\n",
    "}\n",
    "\n",
    "results_mopac = mopac.calculate(molobj, mopac_options)"
   ]
  },
  {
   "cell_type": "code",
   "execution_count": null,
   "id": "armed-final",
   "metadata": {},
   "outputs": [],
   "source": [
    "%%time\n",
    "xtb_options = {\n",
    "    \"gfn\": 1,\n",
    "    \"alpb\": \"water\",\n",
    "    \"opt\": None,\n",
    "}\n",
    "\n",
    "results_xtb = xtb.calculate(molobj, xtb_options)"
   ]
  },
  {
   "cell_type": "code",
   "execution_count": null,
   "id": "swiss-traffic",
   "metadata": {},
   "outputs": [],
   "source": [
    "%%time\n",
    "gamess_options = {\n",
    "    \"basis\": {\"gbasis\": \"pm3\"},\n",
    "    \"contrl\": {\"runtyp\": \"optimize\"},\n",
    "    \"statpt\": {\"opttol\": 0.0005, \"nstep\": 300, \"projct\": False},\n",
    "    \"system\": {\"mwords\": 125},\n",
    "    \"pcm\": {\n",
    "        \"solvnt\": \"water\",\n",
    "        \"mxts\": 15000,\n",
    "        \"icav\": 1,\n",
    "        \"idisp\": 1,\n",
    "    },\n",
    "    \"tescav\": {\"mthall\": 4, \"ntsall\": 60},\n",
    "}\n",
    "\n",
    "results_gamess = gamess.calculate(molobj, gamess_options)"
   ]
  },
  {
   "cell_type": "markdown",
   "id": "sunset-treatment",
   "metadata": {},
   "source": [
    "## Results"
   ]
  },
  {
   "cell_type": "code",
   "execution_count": null,
   "id": "closed-entrepreneur",
   "metadata": {},
   "outputs": [],
   "source": [
    "df_gamess = pd.DataFrame(results_gamess)"
   ]
  },
  {
   "cell_type": "code",
   "execution_count": null,
   "id": "italian-domestic",
   "metadata": {},
   "outputs": [],
   "source": [
    "df_mopac = pd.DataFrame(results_mopac)"
   ]
  },
  {
   "cell_type": "code",
   "execution_count": null,
   "id": "informed-florence",
   "metadata": {},
   "outputs": [],
   "source": [
    "df_xtb = pd.DataFrame(results_xtb)"
   ]
  },
  {
   "cell_type": "code",
   "execution_count": null,
   "id": "irish-trunk",
   "metadata": {},
   "outputs": [],
   "source": [
    "df_mopac"
   ]
  },
  {
   "cell_type": "code",
   "execution_count": null,
   "id": "completed-knife",
   "metadata": {},
   "outputs": [],
   "source": [
    "df_xtb.head()"
   ]
  },
  {
   "cell_type": "code",
   "execution_count": null,
   "id": "minus-principle",
   "metadata": {},
   "outputs": [],
   "source": [
    "df_gamess"
   ]
  },
  {
   "cell_type": "markdown",
   "id": "educated-gentleman",
   "metadata": {},
   "source": [
    "## TODO\n",
    "\n",
    "- properties\n",
    "- timings\n",
    "- n_steps\n",
    "- rmsd\n",
    "\n",
    "- conformer ranking\n",
    "\n"
   ]
  }
 ],
 "metadata": {
  "language_info": {
   "name": "python"
  }
 },
 "nbformat": 4,
 "nbformat_minor": 5
}
