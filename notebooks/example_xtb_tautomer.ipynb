{
 "cells": [
  {
   "cell_type": "markdown",
   "id": "84c3b9e4-575d-4850-abaf-ff67ff4604c7",
   "metadata": {},
   "source": [
    "# Example of selecting different configurations using xTB\n",
    "\n",
    "Problem: We want to find the lowest possible energy state of a molecule to describe how the compound is in solvents accurately. Quantum chemistry optimizers will only be able to find the closest local energy minima from a starting position. So that means we need to enumerate any state beforehand. A state being both the tautomer, protomer, and conformations.\n",
    "\n",
    "This is where cheminformatics and quantum chemistry go hand-in-hand.\n",
    "\n",
    "- Use RDKit to enumerate all tautomer states\n",
    "- Use RDKit to generate conformers for the tautomers\n",
    "- Use xTB to minimize all conformers\n",
    "- Use the conformer energies to compare the tautomer states\n"
   ]
  },
  {
   "cell_type": "code",
   "execution_count": null,
   "id": "superior-translation",
   "metadata": {},
   "outputs": [],
   "source": [
    "%load_ext autoreload\n",
    "%autoreload 2\n",
    "%matplotlib inline"
   ]
  },
  {
   "cell_type": "code",
   "execution_count": null,
   "id": "sorted-referral",
   "metadata": {},
   "outputs": [],
   "source": [
    "import logging\n",
    "import sys"
   ]
  },
  {
   "cell_type": "code",
   "execution_count": null,
   "id": "characteristic-brand",
   "metadata": {},
   "outputs": [],
   "source": [
    "import matplotlib.pyplot as plt\n",
    "import numpy as np\n",
    "import pandas as pd\n",
    "from rdkit import Chem\n",
    "from rdkit.Chem.Draw import MolsToGridImage\n",
    "from rdkit.Chem.MolStandardize import rdMolStandardize\n",
    "from tqdm import tqdm"
   ]
  },
  {
   "cell_type": "code",
   "execution_count": null,
   "id": "speaking-probability",
   "metadata": {},
   "outputs": [],
   "source": [
    "try:\n",
    "    import ppqm\n",
    "except ModuleNotFoundError:\n",
    "    import pathlib\n",
    "\n",
    "    cwd = pathlib.Path().resolve().parent\n",
    "    sys.path.append(str(cwd))\n",
    "    import ppqm"
   ]
  },
  {
   "cell_type": "markdown",
   "id": "blessed-clothing",
   "metadata": {},
   "source": [
    "## Set logging level"
   ]
  },
  {
   "cell_type": "code",
   "execution_count": null,
   "id": "confident-animation",
   "metadata": {},
   "outputs": [],
   "source": [
    "logging.basicConfig(stream=sys.stdout, level=logging.INFO)\n",
    "logging.getLogger(\"ppqm\").setLevel(logging.INFO)\n",
    "logging.getLogger(\"xtb\").setLevel(logging.INFO)\n",
    "show_progress = False"
   ]
  },
  {
   "cell_type": "markdown",
   "id": "gothic-career",
   "metadata": {},
   "source": [
    "## Define a molecule you like"
   ]
  },
  {
   "cell_type": "code",
   "execution_count": null,
   "id": "damaged-rabbit",
   "metadata": {},
   "outputs": [],
   "source": [
    "smiles = \"CCOC(=O)C1=C(C)N=C(C)/C(=C(\\O)OCC)C1C\"  # CHEMBL3189958\n",
    "molobj = Chem.MolFromSmiles(smiles)"
   ]
  },
  {
   "cell_type": "code",
   "execution_count": null,
   "id": "regular-lecture",
   "metadata": {},
   "outputs": [],
   "source": [
    "molobj"
   ]
  },
  {
   "cell_type": "markdown",
   "id": "devoted-occurrence",
   "metadata": {},
   "source": [
    "## Generate tautomers of the molecule\n",
    "\n",
    "Generate tautomer configuration based on RDKit enumeration\n",
    "\n",
    "Reference\n",
    " - http://rdkit.blogspot.com/2020/01/trying-out-new-tautomer.html\n"
   ]
  },
  {
   "cell_type": "code",
   "execution_count": null,
   "id": "muslim-lloyd",
   "metadata": {},
   "outputs": [],
   "source": [
    "enumerator = rdMolStandardize.TautomerEnumerator()"
   ]
  },
  {
   "cell_type": "code",
   "execution_count": null,
   "id": "polyphonic-highland",
   "metadata": {},
   "outputs": [],
   "source": [
    "tautomers = enumerator.Enumerate(molobj)\n",
    "tautomers = list(tautomers)"
   ]
  },
  {
   "cell_type": "code",
   "execution_count": null,
   "id": "united-jefferson",
   "metadata": {},
   "outputs": [],
   "source": [
    "MolsToGridImage(tautomers)"
   ]
  },
  {
   "cell_type": "markdown",
   "id": "junior-edmonton",
   "metadata": {},
   "source": [
    "## Use xTB to select which tautomer is the most stable\n",
    "\n",
    "- Expand the configurations into 3D conformers\n",
    "- Calculate the relative energy in water\n",
    "- Optimize the molecule a bit (crude optimization critiera)\n",
    "\n",
    "\n",
    "Probably a single point (no optimization) would be enough. However, sometimes FF conformer generation can give unnatural high energies, and so we optimize to avoid that.\n",
    "\n",
    "\n",
    "Reference\n",
    "- https://xtb-docs.readthedocs.io/en/latest/optimization.html\n"
   ]
  },
  {
   "cell_type": "code",
   "execution_count": null,
   "id": "adopted-rebel",
   "metadata": {},
   "outputs": [],
   "source": [
    "xtb = ppqm.xtb.XtbCalculator(\n",
    "    scr=\"_tmp_directory_\", n_cores=2, cmd=\"xtb\", show_progress=show_progress\n",
    ")"
   ]
  },
  {
   "cell_type": "code",
   "execution_count": null,
   "id": "complete-austria",
   "metadata": {},
   "outputs": [],
   "source": [
    "xtb_options = {\n",
    "    \"gfn\": 2,\n",
    "    \"alpb\": \"water\",\n",
    "    \"opt\": \"crude\",\n",
    "}"
   ]
  },
  {
   "cell_type": "code",
   "execution_count": null,
   "id": "nasty-bleeding",
   "metadata": {},
   "outputs": [],
   "source": [
    "# Generate conformers\n",
    "for i, molobj in enumerate(tautomers):\n",
    "    molobj = ppqm.tasks.generate_conformers(molobj, n_conformers=5)\n",
    "    tautomers[i] = molobj\n",
    "    print(f\"Tautomer {i} has {molobj.GetNumConformers()} conformers\")"
   ]
  },
  {
   "cell_type": "code",
   "execution_count": null,
   "id": "finite-joint",
   "metadata": {},
   "outputs": [],
   "source": [
    "tautomer_energies = list()\n",
    "\n",
    "for i, molobj in tqdm(enumerate(tautomers), total=len(tautomers)):\n",
    "\n",
    "    results = xtb.calculate(molobj, xtb_options)\n",
    "\n",
    "    energies = [result[\"scc_energy\"] for result in results]\n",
    "    energies = np.asarray(energies)\n",
    "    energies *= ppqm.units.hartree_to_kcalmol\n",
    "    \n",
    "    tautomer_energies.append(energies)\n"
   ]
  },
  {
   "cell_type": "markdown",
   "id": "ff0ab1ae-d999-4069-b4f1-16fbee341175",
   "metadata": {},
   "source": [
    "## Compare energies\n",
    "\n",
    "We are only interested in the relative energies\n"
   ]
  },
  {
   "cell_type": "code",
   "execution_count": null,
   "id": "bed658a5-ecd1-4274-8f5e-35480528fa55",
   "metadata": {},
   "outputs": [],
   "source": [
    "min_energy = np.min([np.min(energies) for energies in tautomer_energies])\n",
    "relative_energies = [energies - min_energy for energies in tautomer_energies]\n",
    "min_energies = [np.min(energies) for energies in relative_energies]\n",
    "min_energies = np.asarray(min_energies)\n"
   ]
  },
  {
   "cell_type": "code",
   "execution_count": null,
   "id": "828f99e3-0ab6-44af-99bb-91e69057f2f4",
   "metadata": {},
   "outputs": [],
   "source": []
  },
  {
   "cell_type": "code",
   "execution_count": null,
   "id": "bfdec43c-4708-4054-b668-17802dc5761e",
   "metadata": {},
   "outputs": [],
   "source": [
    "_ = plt.boxplot(relative_energies)\n",
    "_ = plt.ylabel(\"kcal/mol\")\n",
    "_ = plt.xlabel(\"tautomer\")\n",
    "_ = plt.title(\"Boxplot energies per tautomer\")"
   ]
  },
  {
   "cell_type": "code",
   "execution_count": null,
   "id": "developing-truth",
   "metadata": {},
   "outputs": [],
   "source": [
    "_ = plt.title(\"Minimum energies per tautomer\")\n",
    "_ = plt.plot(min_energies, \"kx\")"
   ]
  },
  {
   "cell_type": "code",
   "execution_count": null,
   "id": "extensive-zambia",
   "metadata": {},
   "outputs": [],
   "source": [
    "print(f\"Best tautomer based on xTB energy is Tautomer #{np.argmin(min_energies)}\")"
   ]
  },
  {
   "cell_type": "markdown",
   "id": "extraordinary-connecticut",
   "metadata": {},
   "source": [
    "## Error in energy\n",
    "\n",
    "As we with anything fast, xTB energies comes with a cost. There is an error associated with the energy, and to an extent, also the sampled conformer space.\n",
    "\n",
    "So let's limit how accurate we think the energy is and pick all the tautomers lower than that.\n"
   ]
  },
  {
   "cell_type": "code",
   "execution_count": null,
   "id": "portuguese-amateur",
   "metadata": {},
   "outputs": [],
   "source": [
    "energy_cutoff = 8.0  # kcal/mol"
   ]
  },
  {
   "cell_type": "code",
   "execution_count": null,
   "id": "assured-carry",
   "metadata": {},
   "outputs": [],
   "source": [
    "n_tautomers = len(min_energies)\n",
    "_ = plt.plot(min_energies, \"kx\")\n",
    "_ = plt.plot(range(n_tautomers), [energy_cutoff] * n_tautomers, \"r-\")"
   ]
  },
  {
   "cell_type": "code",
   "execution_count": null,
   "id": "tropical-father",
   "metadata": {},
   "outputs": [],
   "source": [
    "(stable_indices,) = np.where(min_energies < energy_cutoff)\n",
    "stable_tautomers = [tautomers[i] for i in stable_indices]\n",
    "stable_tautomers = [ppqm.chembridge.copy_molobj(x) for x in stable_tautomers]\n",
    "stable_tautomers = [Chem.RemoveHs(x) for x in stable_tautomers]"
   ]
  },
  {
   "cell_type": "markdown",
   "id": "military-intention",
   "metadata": {},
   "source": [
    "## Results\n",
    "\n",
    "So assuming that RDKit generates all relevant tautomers, and xTB energy is good to within a certain threshold, these are the tautomers that are abundant in water;\n"
   ]
  },
  {
   "cell_type": "code",
   "execution_count": null,
   "id": "coordinated-anthropology",
   "metadata": {},
   "outputs": [],
   "source": [
    "MolsToGridImage(stable_tautomers)"
   ]
  }
 ],
 "metadata": {
  "language_info": {
   "name": "python"
  }
 },
 "nbformat": 4,
 "nbformat_minor": 5
}
