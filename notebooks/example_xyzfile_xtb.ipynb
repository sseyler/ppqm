{
 "cells": [
  {
   "cell_type": "markdown",
   "metadata": {},
   "source": [
    "# Example usage of xTB with XYZ files\n",
    "\n",
    "You can still use molobjs (or ppqm functions) directly, if you have XYZ files to compute.\n"
   ]
  },
  {
   "cell_type": "code",
   "execution_count": null,
   "metadata": {},
   "outputs": [],
   "source": [
    "%load_ext autoreload\n",
    "%autoreload 2\n",
    "%matplotlib inline"
   ]
  },
  {
   "cell_type": "code",
   "execution_count": null,
   "metadata": {},
   "outputs": [],
   "source": [
    "import logging\n",
    "import sys"
   ]
  },
  {
   "cell_type": "code",
   "execution_count": null,
   "metadata": {},
   "outputs": [],
   "source": [
    "import pandas as pd\n",
    "from rdkit import Chem\n",
    "from rdkit.Chem.Draw import MolsToGridImage"
   ]
  },
  {
   "cell_type": "code",
   "execution_count": null,
   "metadata": {},
   "outputs": [],
   "source": [
    "try:\n",
    "    import ppqm\n",
    "except ModuleNotFoundError:\n",
    "    import pathlib\n",
    "\n",
    "    cwd = pathlib.Path().resolve().parent\n",
    "    sys.path.append(str(cwd))\n",
    "    import ppqm"
   ]
  },
  {
   "cell_type": "code",
   "execution_count": null,
   "metadata": {},
   "outputs": [],
   "source": [
    "from ppqm import jupyter as ppqm_jupyter"
   ]
  },
  {
   "cell_type": "code",
   "execution_count": null,
   "metadata": {},
   "outputs": [],
   "source": [
    "import rmsd"
   ]
  },
  {
   "cell_type": "markdown",
   "metadata": {},
   "source": [
    "## Set logging level"
   ]
  },
  {
   "cell_type": "code",
   "execution_count": null,
   "metadata": {},
   "outputs": [],
   "source": [
    "logging.basicConfig(stream=sys.stdout, level=logging.INFO)\n",
    "logging.getLogger(\"ppqm\").setLevel(logging.INFO)\n",
    "logging.getLogger(\"xtb\").setLevel(logging.DEBUG)\n",
    "show_progress = False"
   ]
  },
  {
   "cell_type": "markdown",
   "metadata": {},
   "source": [
    "## Load a XYZ file"
   ]
  },
  {
   "cell_type": "code",
   "execution_count": null,
   "metadata": {},
   "outputs": [],
   "source": [
    "filename = \"../tests/resources/compounds/CHEMBL1234757.xyz\""
   ]
  },
  {
   "cell_type": "code",
   "execution_count": null,
   "metadata": {},
   "outputs": [],
   "source": [
    "atoms, coordinates = rmsd.get_coordinates_xyz(filename)"
   ]
  },
  {
   "cell_type": "code",
   "execution_count": null,
   "metadata": {},
   "outputs": [],
   "source": [
    "atoms"
   ]
  },
  {
   "cell_type": "code",
   "execution_count": null,
   "metadata": {},
   "outputs": [],
   "source": [
    "charge = 0"
   ]
  },
  {
   "cell_type": "markdown",
   "metadata": {},
   "source": [
    "## View the molecule\n",
    "\n",
    "Note that no explict bonds are written in XYZ format, only the coordinates.\n",
    "So RDKit does not now how the graph of the molecule looks like\n"
   ]
  },
  {
   "cell_type": "code",
   "execution_count": null,
   "metadata": {},
   "outputs": [],
   "source": [
    "molobj = ppqm.chembridge.axyzc_to_molobj(atoms, coordinates, charge)\n",
    "molobj"
   ]
  },
  {
   "cell_type": "code",
   "execution_count": null,
   "metadata": {},
   "outputs": [],
   "source": [
    "ppqm_jupyter.show_molobj(molobj)"
   ]
  },
  {
   "cell_type": "markdown",
   "metadata": {},
   "source": [
    "## Set XTB Settings"
   ]
  },
  {
   "cell_type": "code",
   "execution_count": null,
   "metadata": {},
   "outputs": [],
   "source": [
    "xtb_options = {\n",
    "    \"scr\": \"./_tmp_directory_\",  # Where should the calculations happen?\n",
    "    \"cmd\": \"xtb\",  # What is the executable?\n",
    "    \"n_cores\": 1,  # How many cores to use?\n",
    "    \"show_progress\": show_progress,\n",
    "}"
   ]
  },
  {
   "cell_type": "markdown",
   "metadata": {},
   "source": [
    "## Calculate some properties\n",
    "\n",
    "We can now define calculation options and get XTB properties for each conformer in the molobj.\n",
    "\n",
    "The options for XTB follows the --arg documentation from the xtb website https://xtb-docs.readthedocs.io/en/latest/commandline.html\n"
   ]
  },
  {
   "cell_type": "code",
   "execution_count": null,
   "metadata": {},
   "outputs": [],
   "source": [
    "# Optimize molecule in water\n",
    "optimize_options = {\n",
    "    \"gfn\": 2,\n",
    "    \"alpb\": \"h2o\",\n",
    "    \"opt\": None,\n",
    "}"
   ]
  },
  {
   "cell_type": "markdown",
   "metadata": {},
   "source": [
    "Optimize molobj and set resulting coordinates. The `.calculate` function will return a `List[Dict]` with a property dictionary for each conformer."
   ]
  },
  {
   "cell_type": "code",
   "execution_count": null,
   "metadata": {},
   "outputs": [],
   "source": [
    "molecule_properties = ppqm.xtb.get_properties_from_axyzc(\n",
    "    atoms, coordinates, charge, options=optimize_options, **xtb_options\n",
    ")"
   ]
  },
  {
   "cell_type": "code",
   "execution_count": null,
   "metadata": {},
   "outputs": [],
   "source": [
    "list(molecule_properties.keys())"
   ]
  },
  {
   "cell_type": "code",
   "execution_count": null,
   "metadata": {},
   "outputs": [],
   "source": [
    "energy = molecule_properties[\"scc_energy\"]\n",
    "energy *= ppqm.units.hartree_to_kcalmol\n",
    "print(f\"The energy was {energy:.2f} kcal/mol\")"
   ]
  },
  {
   "cell_type": "code",
   "execution_count": null,
   "metadata": {},
   "outputs": [],
   "source": [
    "new_coordinates = molecule_properties[\"coord\"]"
   ]
  },
  {
   "cell_type": "code",
   "execution_count": null,
   "metadata": {},
   "outputs": [],
   "source": [
    "diff = rmsd.kabsch_rmsd(coordinates, new_coordinates)\n",
    "print(f\"The structure moved {diff:.2} AA\")"
   ]
  },
  {
   "cell_type": "markdown",
   "metadata": {},
   "source": [
    "## Show new structure"
   ]
  },
  {
   "cell_type": "code",
   "execution_count": null,
   "metadata": {},
   "outputs": [],
   "source": [
    "molobj_new = ppqm.chembridge.axyzc_to_molobj(atoms, new_coordinates, charge)\n",
    "ppqm_jupyter.show_molobj(molobj_new)"
   ]
  },
  {
   "cell_type": "code",
   "execution_count": null,
   "metadata": {},
   "outputs": [],
   "source": []
  }
 ],
 "metadata": {
  "language_info": {
   "name": "python"
  }
 },
 "nbformat": 4,
 "nbformat_minor": 4
}
