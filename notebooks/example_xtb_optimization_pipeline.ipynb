{
 "cells": [
  {
   "cell_type": "markdown",
   "id": "80aa7109-bea2-4676-b389-d42257f7fe25",
   "metadata": {},
   "source": [
    "# Example of setting up a optimization pipeline based on coordinates\n",
    "\n",
    "More explicit example for when you want to have fall-back calculations for failed geomeotry optimization \n"
   ]
  },
  {
   "cell_type": "code",
   "execution_count": null,
   "id": "received-congo",
   "metadata": {},
   "outputs": [],
   "source": [
    "%load_ext autoreload\n",
    "%autoreload 2\n",
    "%matplotlib inline"
   ]
  },
  {
   "cell_type": "code",
   "execution_count": null,
   "id": "portable-price",
   "metadata": {},
   "outputs": [],
   "source": [
    "import collections\n",
    "import functools\n",
    "import logging\n",
    "import sys"
   ]
  },
  {
   "cell_type": "code",
   "execution_count": null,
   "id": "suburban-ownership",
   "metadata": {},
   "outputs": [],
   "source": [
    "import numpy as np\n",
    "import pandas as pd\n",
    "from rdkit import Chem\n",
    "from rdkit.Chem.Draw import MolsToGridImage"
   ]
  },
  {
   "cell_type": "code",
   "execution_count": null,
   "id": "inside-browser",
   "metadata": {},
   "outputs": [],
   "source": [
    "try:\n",
    "    import ppqm\n",
    "except ModuleNotFoundError:\n",
    "    import pathlib\n",
    "\n",
    "    cwd = pathlib.Path().resolve().parent\n",
    "    sys.path.append(str(cwd))\n",
    "    import ppqm"
   ]
  },
  {
   "cell_type": "code",
   "execution_count": null,
   "id": "proof-manchester",
   "metadata": {},
   "outputs": [],
   "source": [
    "import rmsd"
   ]
  },
  {
   "cell_type": "code",
   "execution_count": null,
   "id": "knowing-decrease",
   "metadata": {},
   "outputs": [],
   "source": [
    "from ppqm import chembridge, xtb\n",
    "from ppqm import jupyter as ppqm_jupyter"
   ]
  },
  {
   "cell_type": "markdown",
   "id": "widespread-debate",
   "metadata": {},
   "source": [
    "## Set logging level"
   ]
  },
  {
   "cell_type": "code",
   "execution_count": null,
   "id": "weighted-beginning",
   "metadata": {},
   "outputs": [],
   "source": [
    "logging.basicConfig(stream=sys.stdout, level=logging.INFO)\n",
    "logging.getLogger(\"ppqm\").setLevel(logging.INFO)\n",
    "logging.getLogger(\"xtb\").setLevel(logging.DEBUG)\n",
    "SHOW_PROGRESS = False"
   ]
  },
  {
   "cell_type": "code",
   "execution_count": null,
   "id": "legendary-runner",
   "metadata": {},
   "outputs": [],
   "source": [
    "_logger = logging.getLogger(__name__)"
   ]
  },
  {
   "cell_type": "markdown",
   "id": "95a95e75-d61c-459a-98c6-efdc0dc3de8d",
   "metadata": {},
   "source": [
    "## Settings"
   ]
  },
  {
   "cell_type": "code",
   "execution_count": null,
   "id": "43a60adc-0eba-4093-bbaf-1fcce98088df",
   "metadata": {},
   "outputs": [],
   "source": [
    "N_CORES = 2"
   ]
  },
  {
   "cell_type": "markdown",
   "id": "asian-distance",
   "metadata": {
    "lines_to_next_cell": 2
   },
   "source": [
    "## Define xtb options and functions\n",
    "\n",
    "TODO Add some documentation\n"
   ]
  },
  {
   "cell_type": "code",
   "execution_count": null,
   "id": "selective-paintball",
   "metadata": {},
   "outputs": [],
   "source": [
    "def optimize_molobj(\n",
    "    molobj,\n",
    "    show_progress=True,\n",
    "    n_cores=1,\n",
    "    scr=None,\n",
    "    calculation_options={},\n",
    "    xtb_options={},\n",
    "    rmsd_threshold=3.0,\n",
    "):\n",
    "    \"\"\"\n",
    "    Optimize all the conformers in molobj.\n",
    "\n",
    "    :param rmsd_threshold: Check if molcule moved away from local minima.\n",
    "    \"\"\"\n",
    "    n_atoms = molobj.GetNumAtoms()\n",
    "    molobj_prime = chembridge.copy_molobj(molobj)\n",
    "    energies = []\n",
    "\n",
    "    atoms, _, charge = chembridge.get_axyzc(molobj, atomfmt=str)\n",
    "\n",
    "    n_conformers = molobj.GetNumConformers()\n",
    "    coordinates_list = [\n",
    "        np.asarray(conformer.GetPositions()) for conformer in molobj.GetConformers()\n",
    "    ]\n",
    "\n",
    "    n_procs = min(n_cores, n_conformers)\n",
    "    results = []\n",
    "\n",
    "    if \"n_cores\" in xtb_options:\n",
    "        del xtb_options[\"n_cores\"]\n",
    "\n",
    "    if scr:\n",
    "        xtb_options[\"scr\"] = scr\n",
    "\n",
    "    func = functools.partial(\n",
    "        optimize_acxyz,\n",
    "        atoms,\n",
    "        charge,\n",
    "        calculation_options=calculation_options,\n",
    "        xtb_options=xtb_options,\n",
    "    )\n",
    "\n",
    "    results = ppqm.misc.func_parallel(\n",
    "        func,\n",
    "        coordinates_list,\n",
    "        n_cores=n_procs,\n",
    "        show_progress=show_progress,\n",
    "        title=\"Optimize\",\n",
    "    )\n",
    "\n",
    "    for idx, (coord, energy) in enumerate(results):\n",
    "\n",
    "        # if conformer is unconverged, ignore\n",
    "        if coord is None or energy is None:\n",
    "            _logger.warning(f\"conformer {idx} unconverged\")\n",
    "            continue\n",
    "\n",
    "        # if conformer has changed a lot, warn\n",
    "        original = chembridge.get_coordinates(molobj, confid=idx)\n",
    "        displacement = rmsd.kabsch_rmsd(coord, original)\n",
    "        if displacement > rmsd_threshold:\n",
    "            _logger.warning(f\"conformer {idx} has large displacement\")\n",
    "\n",
    "        # Molecule is converged, add to new molobj\n",
    "        conformer = Chem.Conformer(n_atoms)\n",
    "        chembridge.conformer_set_coordinates(conformer, coord)\n",
    "        molobj_prime.AddConformer(conformer, assignId=True)\n",
    "        energies.append(energy)\n",
    "\n",
    "    energies = np.asarray(energies)\n",
    "\n",
    "    return molobj_prime, energies"
   ]
  },
  {
   "cell_type": "code",
   "execution_count": null,
   "id": "dutch-wealth",
   "metadata": {},
   "outputs": [],
   "source": [
    "def optimize_acxyz(atoms, charge, coordinates, **kwargs):\n",
    "    \"\"\" Meta function for parallel func mapping \"\"\"\n",
    "    return optimize_axyzc(atoms, coordinates, charge, **kwargs)"
   ]
  },
  {
   "cell_type": "code",
   "execution_count": null,
   "id": "local-magnitude",
   "metadata": {},
   "outputs": [],
   "source": [
    "def optimize_axyzc(atoms, coordinates, charge, calculation_options={}, xtb_options={}) -> np.array:\n",
    "    \"\"\"\n",
    "    Optimize conformer with fast quantum chemistry\n",
    "\n",
    "    - optimize with XTB2\n",
    "    - if not_converged\n",
    "      restart with XTB0 with n_steps\n",
    "      optimize with XTB2\n",
    "    - if not_converged\n",
    "      optimize with cartisian coordinates\n",
    "    - if not_converged\n",
    "      return None\n",
    "\n",
    "    :return coordiantes: Nx3 Array of coordiantes\n",
    "    \"\"\"\n",
    "\n",
    "    assert isinstance(atoms[0], str), \"func requires atoms in string format\"\n",
    "\n",
    "    options_default = {\n",
    "        \"opt\": None,\n",
    "        \"cycles\": 100,\n",
    "    }\n",
    "    options_default = dict(collections.ChainMap(options_default, calculation_options))\n",
    "\n",
    "    options_fast = {\n",
    "        \"gfn\": 0,\n",
    "        \"opt\": None,\n",
    "        \"cycles\": 200,\n",
    "    }\n",
    "    options_fast = dict(collections.ChainMap(options_fast, calculation_options))\n",
    "\n",
    "    options_lax = {\n",
    "        \"opt\": \"lax\",\n",
    "    }\n",
    "    options_fast = dict(collections.ChainMap(options_lax, calculation_options))\n",
    "\n",
    "    # Start calculating with the defined options\n",
    "\n",
    "    properties = xtb.get_properties_from_axyzc(\n",
    "        atoms, coordinates, charge, options=options_default, **xtb_options\n",
    "    )\n",
    "\n",
    "    if properties and properties[xtb.COLUMN_CONVERGED]:\n",
    "        return properties[xtb.COLUMN_COORD], properties[xtb.COLUMN_ENERGY]\n",
    "\n",
    "    properties = xtb.get_properties_from_axyzc(\n",
    "        atoms, coordinates, charge, options=options_fast, **xtb_options\n",
    "    )\n",
    "\n",
    "    if not properties or xtb.COLUMN_COORD not in properties:\n",
    "        return None, None\n",
    "\n",
    "    fast_coordinates = properties[xtb.COLUMN_COORD]\n",
    "\n",
    "    properties = xtb.get_properties_from_axyzc(\n",
    "        atoms, fast_coordinates, charge, options_default, **xtb_options\n",
    "    )\n",
    "\n",
    "    if properties and properties[xtb.COLUMN_CONVERGED]:\n",
    "        return properties[xtb.COLUMN_COORD], properties[xtb.COLUMN_ENERGY]\n",
    "\n",
    "    if properties[xtb.COLUMN_COORD] is None:\n",
    "        return None, None\n",
    "\n",
    "    fast_coordinates = properties[xtb.COLUMN_COORD]\n",
    "\n",
    "    properties = xtb.get_properties_from_axyzc(\n",
    "        atoms, fast_coordinates, charge, options=options_lax, **xtb_options\n",
    "    )\n",
    "\n",
    "    if not properties or properties[xtb.COLUMN_COORD] is None:\n",
    "        return None, None\n",
    "\n",
    "    return properties[xtb.COLUMN_COORD], properties[xtb.COLUMN_ENERGY]"
   ]
  },
  {
   "cell_type": "markdown",
   "id": "bulgarian-client",
   "metadata": {},
   "source": [
    "## Define a molecule you like"
   ]
  },
  {
   "cell_type": "code",
   "execution_count": null,
   "id": "completed-collectible",
   "metadata": {},
   "outputs": [],
   "source": [
    "smiles = \"O=C(OCCN1CCN(C(c2ccc(F)cc2)c2ccc(F)cc2)CC1)C12C[C@H]3C[C@@H](C1)C[C@@H](C2)C3\"  # CHEMBL1191174\n",
    "molobj = Chem.MolFromSmiles(smiles)"
   ]
  },
  {
   "cell_type": "code",
   "execution_count": null,
   "id": "driving-denver",
   "metadata": {},
   "outputs": [],
   "source": [
    "molobj"
   ]
  },
  {
   "cell_type": "code",
   "execution_count": null,
   "id": "direct-editing",
   "metadata": {},
   "outputs": [],
   "source": [
    "# With 3D cooordinates\n",
    "molobj = ppqm.tasks.generate_conformers(molobj)"
   ]
  },
  {
   "cell_type": "markdown",
   "id": "marine-science",
   "metadata": {},
   "source": [
    "## Let's optimize a molobj"
   ]
  },
  {
   "cell_type": "code",
   "execution_count": null,
   "id": "exterior-factory",
   "metadata": {},
   "outputs": [],
   "source": [
    "calculation_options = {\n",
    "    \"gfn\": 2,\n",
    "    \"alpb\": \"water\",\n",
    "}"
   ]
  },
  {
   "cell_type": "code",
   "execution_count": null,
   "id": "fantastic-spain",
   "metadata": {},
   "outputs": [],
   "source": [
    "xtb_options = {\"cmd\": \"xtb\"}"
   ]
  },
  {
   "cell_type": "code",
   "execution_count": null,
   "id": "million-acceptance",
   "metadata": {},
   "outputs": [],
   "source": [
    "kwargs = {\n",
    "    \"n_cores\": N_CORES,\n",
    "    \"scr\": \"_tmp_directory_\",\n",
    "    \"xtb_options\": xtb_options,\n",
    "    \"calculation_options\": calculation_options,\n",
    "    \"show_progress\": SHOW_PROGRESS,\n",
    "}"
   ]
  },
  {
   "cell_type": "code",
   "execution_count": null,
   "id": "mounted-greeting",
   "metadata": {},
   "outputs": [],
   "source": [
    "molobj_prime = optimize_molobj(molobj, **kwargs)"
   ]
  },
  {
   "cell_type": "code",
   "execution_count": null,
   "id": "fcdfa58f-2058-46c5-a1fb-8b6d89b011db",
   "metadata": {},
   "outputs": [],
   "source": []
  }
 ],
 "metadata": {
  "language_info": {
   "name": "python"
  }
 },
 "nbformat": 4,
 "nbformat_minor": 5
}
